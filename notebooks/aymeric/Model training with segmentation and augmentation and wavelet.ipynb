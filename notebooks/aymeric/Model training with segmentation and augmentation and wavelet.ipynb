{
 "cells": [
  {
   "cell_type": "markdown",
   "id": "99aff731",
   "metadata": {},
   "source": [
    "# Model with segmentation, augmentation and wavelet"
   ]
  },
  {
   "cell_type": "markdown",
   "id": "00b72f17",
   "metadata": {
    "ExecuteTime": {
     "end_time": "2021-07-05T11:57:49.805293Z",
     "start_time": "2021-07-05T11:57:49.756999Z"
    }
   },
   "source": [
    "## Imports"
   ]
  },
  {
   "cell_type": "code",
   "execution_count": 35,
   "id": "7051387b",
   "metadata": {
    "ExecuteTime": {
     "end_time": "2021-07-06T12:08:43.890337Z",
     "start_time": "2021-07-06T12:08:43.848367Z"
    }
   },
   "outputs": [
    {
     "name": "stdout",
     "output_type": "stream",
     "text": [
      "The autoreload extension is already loaded. To reload it, use:\n",
      "  %reload_ext autoreload\n"
     ]
    }
   ],
   "source": [
    "%load_ext autoreload\n",
    "%autoreload 2\n",
    "\n",
    "import matplotlib.pyplot as plt\n",
    "import os\n",
    "import numpy as np\n",
    "from sklearn.model_selection import train_test_split\n",
    "from scipy.ndimage import prewitt\n",
    "from  PIL import Image\n",
    "\n",
    "from elle_ebene.utils.simple_preprocessing import get_images, to_numpy_rgb, squared_imgs, create_dataset\n",
    "from elle_ebene.hair_segmentation.hair_seg import HairSegmenter\n",
    "from elle_ebene.utils.data_aug_c import HairGenerator\n",
    "\n",
    "\n",
    "from tensorflow.keras.preprocessing.image import ImageDataGenerator\n",
    "from tensorflow.keras.utils import to_categorical\n",
    "from tensorflow.keras import models\n",
    "from tensorflow.keras import layers\n",
    "from tensorflow.keras import optimizers\n",
    "from tensorflow.keras.callbacks import EarlyStopping\n",
    "from keras.callbacks import LearningRateScheduler\n",
    "import math\n",
    "from tensorflow.keras import regularizers"
   ]
  },
  {
   "cell_type": "markdown",
   "id": "eb892b2f",
   "metadata": {},
   "source": [
    "## Dataset"
   ]
  },
  {
   "cell_type": "code",
   "execution_count": 4,
   "id": "ae5133a3",
   "metadata": {
    "ExecuteTime": {
     "end_time": "2021-07-06T11:57:09.195444Z",
     "start_time": "2021-07-06T11:57:03.225804Z"
    }
   },
   "outputs": [],
   "source": [
    "type3_imgs = get_images(\"Type 3\",resizing_dim=224)\n",
    "type4_imgs = get_images(\"Type 4\",resizing_dim=224)"
   ]
  },
  {
   "cell_type": "code",
   "execution_count": 5,
   "id": "9eb2b7d8",
   "metadata": {
    "ExecuteTime": {
     "end_time": "2021-07-06T11:57:09.359271Z",
     "start_time": "2021-07-06T11:57:09.268750Z"
    }
   },
   "outputs": [],
   "source": [
    "type3_imgs_rgb = to_numpy_rgb(type3_imgs)\n",
    "type4_imgs_rgb = to_numpy_rgb(type4_imgs)"
   ]
  },
  {
   "cell_type": "code",
   "execution_count": 6,
   "id": "fbc0c541",
   "metadata": {
    "ExecuteTime": {
     "end_time": "2021-07-06T11:57:09.883639Z",
     "start_time": "2021-07-06T11:57:09.700598Z"
    }
   },
   "outputs": [],
   "source": [
    "type3_imgs_squared = squared_imgs(type3_imgs_rgb)\n",
    "type4_imgs_squared = squared_imgs(type4_imgs_rgb)"
   ]
  },
  {
   "cell_type": "code",
   "execution_count": 7,
   "id": "e15498e1",
   "metadata": {
    "ExecuteTime": {
     "end_time": "2021-07-06T11:57:11.595449Z",
     "start_time": "2021-07-06T11:57:10.508931Z"
    }
   },
   "outputs": [],
   "source": [
    "segmenter = HairSegmenter()\n",
    "segmenter.model_init()"
   ]
  },
  {
   "cell_type": "code",
   "execution_count": 8,
   "id": "0003924b",
   "metadata": {
    "ExecuteTime": {
     "end_time": "2021-07-06T11:57:51.377379Z",
     "start_time": "2021-07-06T11:57:12.223704Z"
    }
   },
   "outputs": [],
   "source": [
    "hairs_type3 = segmenter.get_hairs(type3_imgs_squared)\n",
    "hairs_type4 = segmenter.get_hairs(type4_imgs_squared)"
   ]
  },
  {
   "cell_type": "code",
   "execution_count": 9,
   "id": "23b40fef",
   "metadata": {
    "ExecuteTime": {
     "end_time": "2021-07-06T11:57:52.329817Z",
     "start_time": "2021-07-06T11:57:52.300284Z"
    }
   },
   "outputs": [],
   "source": [
    "type3_labels = np.full((len(hairs_type3),),3)\n",
    "type4_labels = np.full((len(hairs_type4),),4)"
   ]
  },
  {
   "cell_type": "code",
   "execution_count": 38,
   "id": "549dbaa0",
   "metadata": {
    "ExecuteTime": {
     "end_time": "2021-07-06T12:09:49.939496Z",
     "start_time": "2021-07-06T12:09:49.239224Z"
    }
   },
   "outputs": [],
   "source": [
    "hairs_3 = [np.expand_dims(prewitt(hair.dot([0.2989, 0.5870, 0.1140])), axis = -1) for hair in hairs_type3]\n",
    "hairs_4 = [np.expand_dims(prewitt(hair.dot([0.2989, 0.5870, 0.1140])), axis = -1) for hair in hairs_type4]"
   ]
  },
  {
   "cell_type": "code",
   "execution_count": 55,
   "id": "f394cfc1",
   "metadata": {
    "ExecuteTime": {
     "end_time": "2021-07-06T12:29:25.643572Z",
     "start_time": "2021-07-06T12:29:25.376375Z"
    }
   },
   "outputs": [],
   "source": [
    "X, y = create_dataset([hairs_3, hairs_4], [type3_labels, type4_labels])\n",
    "\n",
    "X_train, X_test, y_train, y_test = train_test_split(X, y, test_size=0.3)\n",
    "X_train, X_val, y_train, y_val = train_test_split(X_train, y_train, test_size=0.3)"
   ]
  },
  {
   "cell_type": "code",
   "execution_count": 73,
   "id": "8378c234",
   "metadata": {
    "ExecuteTime": {
     "end_time": "2021-07-06T12:50:42.618091Z",
     "start_time": "2021-07-06T12:50:42.437857Z"
    }
   },
   "outputs": [
    {
     "data": {
      "text/plain": [
       "<matplotlib.image.AxesImage at 0x7fe32bafb640>"
      ]
     },
     "execution_count": 73,
     "metadata": {},
     "output_type": "execute_result"
    },
    {
     "data": {
      "image/png": "[encoded data removed]",
      "text/plain": [
       "<Figure size 432x288 with 1 Axes>"
      ]
     },
     "metadata": {
      "needs_background": "light"
     },
     "output_type": "display_data"
    }
   ],
   "source": [
    "plt.imshow(X_train[0], cmap = \"gray\")"
   ]
  },
  {
   "cell_type": "code",
   "execution_count": 57,
   "id": "b3d13e42",
   "metadata": {
    "ExecuteTime": {
     "end_time": "2021-07-06T12:29:28.430526Z",
     "start_time": "2021-07-06T12:29:28.396029Z"
    }
   },
   "outputs": [
    {
     "data": {
      "text/plain": [
       "(224, 224, 1)"
      ]
     },
     "execution_count": 57,
     "metadata": {},
     "output_type": "execute_result"
    }
   ],
   "source": [
    "X_train[0].shape"
   ]
  },
  {
   "cell_type": "markdown",
   "id": "0e3d0478",
   "metadata": {},
   "source": [
    "## Normalisation et encoding"
   ]
  },
  {
   "cell_type": "code",
   "execution_count": 58,
   "id": "662b992f",
   "metadata": {
    "ExecuteTime": {
     "end_time": "2021-07-06T12:29:33.108354Z",
     "start_time": "2021-07-06T12:29:32.995005Z"
    }
   },
   "outputs": [],
   "source": [
    "X_train = X_train / 255\n",
    "X_test = X_test / 255\n",
    "X_val = X_val / 255"
   ]
  },
  {
   "cell_type": "code",
   "execution_count": 59,
   "id": "94a7490e",
   "metadata": {
    "ExecuteTime": {
     "end_time": "2021-07-06T12:29:34.598053Z",
     "start_time": "2021-07-06T12:29:34.559531Z"
    }
   },
   "outputs": [],
   "source": [
    "y_train = to_categorical(y_train,5)[:,-2:]\n",
    "y_val = to_categorical(y_val,5)[:,-2:]\n",
    "y_test = to_categorical(y_test,5)[:,-2:]"
   ]
  },
  {
   "cell_type": "markdown",
   "id": "f569e9a4",
   "metadata": {},
   "source": [
    "## Data augmentation"
   ]
  },
  {
   "cell_type": "code",
   "execution_count": 60,
   "id": "847cbc58",
   "metadata": {
    "ExecuteTime": {
     "end_time": "2021-07-06T12:29:36.134926Z",
     "start_time": "2021-07-06T12:29:36.099811Z"
    }
   },
   "outputs": [],
   "source": [
    "augmenter = HairGenerator()"
   ]
  },
  {
   "cell_type": "code",
   "execution_count": 61,
   "id": "cf5aa105",
   "metadata": {
    "ExecuteTime": {
     "end_time": "2021-07-06T12:29:37.575683Z",
     "start_time": "2021-07-06T12:29:37.482682Z"
    }
   },
   "outputs": [],
   "source": [
    "augmenter.datagen(X_train, y_train, batch_size=16, rotation_range=20, width_shift_range=0.1,\n",
    "                  height_shift_range=0.1, horizontal_flip=True, fill_mode='nearest',\n",
    "                  brightness_range=None)"
   ]
  },
  {
   "cell_type": "markdown",
   "id": "09b4ead9",
   "metadata": {},
   "source": [
    "## Model"
   ]
  },
  {
   "cell_type": "code",
   "execution_count": 62,
   "id": "9330d70d",
   "metadata": {
    "ExecuteTime": {
     "end_time": "2021-07-06T12:29:39.249151Z",
     "start_time": "2021-07-06T12:29:39.195395Z"
    }
   },
   "outputs": [],
   "source": [
    "def plot_history(history, title='', axs=None, exp_name=\"\"):\n",
    "    if axs is not None:\n",
    "        ax1, ax2 = axs\n",
    "    else:\n",
    "        f, (ax1, ax2) = plt.subplots(1, 2, figsize=(12, 4))\n",
    "    \n",
    "    if len(exp_name) > 0 and exp_name[0] != '_':\n",
    "        exp_name = '_' + exp_name\n",
    "    ax1.plot(history.history['loss'], label='train' + exp_name)\n",
    "    ax1.plot(history.history['val_loss'], label='val' + exp_name)\n",
    "    ax1.set_ylim(0., 1)\n",
    "    ax1.set_title('loss')\n",
    "    ax1.legend()\n",
    "\n",
    "    ax2.plot(history.history['accuracy'], label='train accuracy'  + exp_name)\n",
    "    ax2.plot(history.history['val_accuracy'], label='val accuracy'  + exp_name)\n",
    "    ax2.set_ylim(0.25, 1.)\n",
    "    ax2.set_title('Accuracy')\n",
    "    ax2.legend()\n",
    "    return (ax1, ax2)"
   ]
  },
  {
   "cell_type": "code",
   "execution_count": 63,
   "id": "4fa4d52c",
   "metadata": {
    "ExecuteTime": {
     "end_time": "2021-07-06T12:29:40.912127Z",
     "start_time": "2021-07-06T12:29:40.877382Z"
    }
   },
   "outputs": [],
   "source": [
    "def initialize_model():\n",
    "   \n",
    "    model  = models.Sequential()\n",
    "    \n",
    "    ### First convolution & max-pooling\n",
    "    model.add(layers.Conv2D(16, kernel_size=(4, 4), activation='relu', input_shape=(224, 224, 1), padding = \"same\"))\n",
    "    #model.add(layers.Dropout(rate=0.2))\n",
    "    \n",
    "    ### Second convolution\n",
    "    model.add(layers.Conv2D(16, kernel_size=(3, 3), activation='relu', padding = \"same\"))\n",
    "    model.add(layers.MaxPool2D(pool_size = (2,2)))    \n",
    "    #model.add(layers.Dropout(rate=0.2))\n",
    "    \n",
    "    ### Third convolution\n",
    "    model.add(layers.Conv2D(32, kernel_size=(2, 2), activation='relu', padding = \"same\"))  \n",
    "    #model.add(layers.Dropout(rate=0.2))\n",
    "    \n",
    "    ### Fourth convolution\n",
    "    model.add(layers.Conv2D(32, kernel_size=(2, 2), activation='relu', padding = \"same\"))\n",
    "    model.add(layers.MaxPool2D(pool_size = (4,4)))    \n",
    "    #model.add(layers.Dropout(rate=0.2))\n",
    "    \n",
    "    ### Flattening\n",
    "    model.add(layers.Flatten())\n",
    "    \n",
    "    ### One fully connected\n",
    "    model.add(layers.Dense(32, activation='relu')) \n",
    "    model.add(layers.Dropout(rate=0.2))\n",
    "\n",
    "    ### Last layer\n",
    "    model.add(layers.Dense(2, activation='sigmoid')) \n",
    "\n",
    "    model.compile(loss='binary_crossentropy',\n",
    "            optimizer=optimizers.Adam(learning_rate = 0.0001),\n",
    "            metrics=['accuracy'])\n",
    "    \n",
    "    return model"
   ]
  },
  {
   "cell_type": "code",
   "execution_count": 64,
   "id": "6a5851dd",
   "metadata": {
    "ExecuteTime": {
     "end_time": "2021-07-06T12:29:42.259669Z",
     "start_time": "2021-07-06T12:29:42.154957Z"
    }
   },
   "outputs": [
    {
     "name": "stdout",
     "output_type": "stream",
     "text": [
      "Model: \"sequential_3\"\n",
      "_________________________________________________________________\n",
      "Layer (type)                 Output Shape              Param #   \n",
      "=================================================================\n",
      "conv2d_13 (Conv2D)           (None, 224, 224, 16)      272       \n",
      "_________________________________________________________________\n",
      "conv2d_14 (Conv2D)           (None, 224, 224, 16)      2320      \n",
      "_________________________________________________________________\n",
      "max_pooling2d_6 (MaxPooling2 (None, 112, 112, 16)      0         \n",
      "_________________________________________________________________\n",
      "conv2d_15 (Conv2D)           (None, 112, 112, 32)      2080      \n",
      "_________________________________________________________________\n",
      "conv2d_16 (Conv2D)           (None, 112, 112, 32)      4128      \n",
      "_________________________________________________________________\n",
      "max_pooling2d_7 (MaxPooling2 (None, 28, 28, 32)        0         \n",
      "_________________________________________________________________\n",
      "flatten_3 (Flatten)          (None, 25088)             0         \n",
      "_________________________________________________________________\n",
      "dense_6 (Dense)              (None, 32)                802848    \n",
      "_________________________________________________________________\n",
      "dropout_1 (Dropout)          (None, 32)                0         \n",
      "_________________________________________________________________\n",
      "dense_7 (Dense)              (None, 2)                 66        \n",
      "=================================================================\n",
      "Total params: 811,714\n",
      "Trainable params: 811,714\n",
      "Non-trainable params: 0\n",
      "_________________________________________________________________\n"
     ]
    }
   ],
   "source": [
    "model = initialize_model()\n",
    "model.summary()"
   ]
  },
  {
   "cell_type": "code",
   "execution_count": 65,
   "id": "858efec1",
   "metadata": {
    "ExecuteTime": {
     "end_time": "2021-07-06T12:29:43.584025Z",
     "start_time": "2021-07-06T12:29:43.551656Z"
    }
   },
   "outputs": [],
   "source": [
    "# learning rate schedule\n",
    "def step_decay(epoch, lr):\n",
    "    decay = 0.5\n",
    "    lr *= (1. / (1. + decay * epoch))\n",
    "    return lr"
   ]
  },
  {
   "cell_type": "code",
   "execution_count": 69,
   "id": "f8cbea9c",
   "metadata": {
    "ExecuteTime": {
     "end_time": "2021-07-06T12:49:18.339236Z",
     "start_time": "2021-07-06T12:33:06.702469Z"
    }
   },
   "outputs": [
    {
     "name": "stdout",
     "output_type": "stream",
     "text": [
      "Epoch 1/100\n",
      "13/13 [==============================] - 9s 665ms/step - loss: 0.6494 - accuracy: 0.5950 - val_loss: 0.6853 - val_accuracy: 0.5517\n",
      "Epoch 2/100\n",
      "13/13 [==============================] - 10s 731ms/step - loss: 0.6616 - accuracy: 0.5600 - val_loss: 0.6786 - val_accuracy: 0.6322\n",
      "Epoch 3/100\n",
      "13/13 [==============================] - 10s 758ms/step - loss: 0.6534 - accuracy: 0.6100 - val_loss: 0.6830 - val_accuracy: 0.6092\n",
      "Epoch 4/100\n",
      "13/13 [==============================] - 9s 702ms/step - loss: 0.6455 - accuracy: 0.6350 - val_loss: 0.6888 - val_accuracy: 0.5747\n",
      "Epoch 5/100\n",
      "13/13 [==============================] - 10s 799ms/step - loss: 0.6248 - accuracy: 0.6450 - val_loss: 0.6984 - val_accuracy: 0.5747\n",
      "Epoch 6/100\n",
      "13/13 [==============================] - 10s 780ms/step - loss: 0.6397 - accuracy: 0.6100 - val_loss: 0.7130 - val_accuracy: 0.5862\n",
      "Epoch 7/100\n",
      "13/13 [==============================] - 10s 829ms/step - loss: 0.6319 - accuracy: 0.6550 - val_loss: 0.7083 - val_accuracy: 0.6092\n",
      "Epoch 8/100\n",
      "13/13 [==============================] - 10s 770ms/step - loss: 0.6322 - accuracy: 0.6450 - val_loss: 0.7249 - val_accuracy: 0.5977\n",
      "Epoch 9/100\n",
      "13/13 [==============================] - 10s 782ms/step - loss: 0.6197 - accuracy: 0.6300 - val_loss: 0.7226 - val_accuracy: 0.5862\n",
      "Epoch 10/100\n",
      "13/13 [==============================] - 9s 705ms/step - loss: 0.6349 - accuracy: 0.5900 - val_loss: 0.7353 - val_accuracy: 0.5747\n",
      "Epoch 11/100\n",
      "13/13 [==============================] - 9s 719ms/step - loss: 0.6191 - accuracy: 0.6700 - val_loss: 0.7245 - val_accuracy: 0.5747\n",
      "Epoch 12/100\n",
      "13/13 [==============================] - 9s 719ms/step - loss: 0.6160 - accuracy: 0.6500 - val_loss: 0.7721 - val_accuracy: 0.5977\n",
      "Epoch 13/100\n",
      "13/13 [==============================] - 9s 706ms/step - loss: 0.6029 - accuracy: 0.6750 - val_loss: 0.7426 - val_accuracy: 0.5747\n",
      "Epoch 14/100\n",
      "13/13 [==============================] - 8s 631ms/step - loss: 0.5880 - accuracy: 0.7000 - val_loss: 0.7534 - val_accuracy: 0.5977\n",
      "Epoch 15/100\n",
      "13/13 [==============================] - 9s 731ms/step - loss: 0.5811 - accuracy: 0.6950 - val_loss: 0.7675 - val_accuracy: 0.6092\n",
      "Epoch 16/100\n",
      "13/13 [==============================] - 11s 852ms/step - loss: 0.6142 - accuracy: 0.6650 - val_loss: 0.7583 - val_accuracy: 0.6207\n",
      "Epoch 17/100\n",
      "13/13 [==============================] - 9s 721ms/step - loss: 0.6068 - accuracy: 0.6550 - val_loss: 0.7451 - val_accuracy: 0.5977\n",
      "Epoch 18/100\n",
      "13/13 [==============================] - 9s 707ms/step - loss: 0.5848 - accuracy: 0.6950 - val_loss: 0.7847 - val_accuracy: 0.5977\n",
      "Epoch 19/100\n",
      "13/13 [==============================] - 8s 649ms/step - loss: 0.5967 - accuracy: 0.6850 - val_loss: 0.7641 - val_accuracy: 0.5977\n",
      "Epoch 20/100\n",
      "13/13 [==============================] - 8s 646ms/step - loss: 0.5745 - accuracy: 0.6800 - val_loss: 0.7832 - val_accuracy: 0.5862\n",
      "Epoch 21/100\n",
      "13/13 [==============================] - 9s 694ms/step - loss: 0.5604 - accuracy: 0.7100 - val_loss: 0.8391 - val_accuracy: 0.5862\n",
      "Epoch 22/100\n",
      "13/13 [==============================] - 10s 760ms/step - loss: 0.5811 - accuracy: 0.7200 - val_loss: 0.7995 - val_accuracy: 0.6092\n",
      "Epoch 23/100\n",
      "13/13 [==============================] - 10s 713ms/step - loss: 0.5685 - accuracy: 0.7400 - val_loss: 0.8044 - val_accuracy: 0.6092\n",
      "Epoch 24/100\n",
      "13/13 [==============================] - 10s 739ms/step - loss: 0.5637 - accuracy: 0.7300 - val_loss: 0.7811 - val_accuracy: 0.6207\n",
      "Epoch 25/100\n",
      "13/13 [==============================] - 9s 675ms/step - loss: 0.5742 - accuracy: 0.7250 - val_loss: 0.8259 - val_accuracy: 0.5977\n",
      "Epoch 26/100\n",
      "13/13 [==============================] - 9s 716ms/step - loss: 0.5760 - accuracy: 0.7100 - val_loss: 0.8056 - val_accuracy: 0.6092\n",
      "Epoch 27/100\n",
      "13/13 [==============================] - 8s 649ms/step - loss: 0.5694 - accuracy: 0.7050 - val_loss: 0.8038 - val_accuracy: 0.5977\n",
      "Epoch 28/100\n",
      "13/13 [==============================] - 8s 631ms/step - loss: 0.5543 - accuracy: 0.7300 - val_loss: 0.8264 - val_accuracy: 0.5862\n",
      "Epoch 29/100\n",
      "13/13 [==============================] - 10s 781ms/step - loss: 0.5394 - accuracy: 0.7400 - val_loss: 0.8260 - val_accuracy: 0.5977\n",
      "Epoch 30/100\n",
      "13/13 [==============================] - 12s 909ms/step - loss: 0.5231 - accuracy: 0.7400 - val_loss: 0.8827 - val_accuracy: 0.5747\n",
      "Epoch 31/100\n",
      "13/13 [==============================] - 11s 788ms/step - loss: 0.5330 - accuracy: 0.7150 - val_loss: 0.9405 - val_accuracy: 0.5862\n",
      "Epoch 32/100\n",
      "13/13 [==============================] - 10s 748ms/step - loss: 0.5617 - accuracy: 0.7350 - val_loss: 0.8441 - val_accuracy: 0.5862\n",
      "Epoch 33/100\n",
      "13/13 [==============================] - 8s 623ms/step - loss: 0.5772 - accuracy: 0.7050 - val_loss: 0.8368 - val_accuracy: 0.5747\n",
      "Epoch 34/100\n",
      "13/13 [==============================] - 10s 785ms/step - loss: 0.5353 - accuracy: 0.7800 - val_loss: 0.8561 - val_accuracy: 0.5977\n",
      "Epoch 35/100\n",
      "13/13 [==============================] - 11s 860ms/step - loss: 0.5395 - accuracy: 0.7250 - val_loss: 0.8911 - val_accuracy: 0.5862\n",
      "Epoch 36/100\n",
      "13/13 [==============================] - 10s 771ms/step - loss: 0.5665 - accuracy: 0.6950 - val_loss: 0.8139 - val_accuracy: 0.5862\n",
      "Epoch 37/100\n",
      "13/13 [==============================] - 11s 795ms/step - loss: 0.5500 - accuracy: 0.6900 - val_loss: 0.8562 - val_accuracy: 0.5977\n",
      "Epoch 38/100\n",
      "13/13 [==============================] - 9s 678ms/step - loss: 0.5503 - accuracy: 0.7250 - val_loss: 0.8476 - val_accuracy: 0.5862\n",
      "Epoch 39/100\n",
      "13/13 [==============================] - 9s 651ms/step - loss: 0.5562 - accuracy: 0.7250 - val_loss: 0.8638 - val_accuracy: 0.5977\n",
      "Epoch 40/100\n",
      "13/13 [==============================] - 8s 624ms/step - loss: 0.5385 - accuracy: 0.7350 - val_loss: 0.8074 - val_accuracy: 0.5632\n",
      "Epoch 41/100\n",
      "13/13 [==============================] - 9s 728ms/step - loss: 0.5412 - accuracy: 0.7200 - val_loss: 0.8731 - val_accuracy: 0.5747\n",
      "Epoch 42/100\n",
      "13/13 [==============================] - 9s 728ms/step - loss: 0.5375 - accuracy: 0.7450 - val_loss: 0.8528 - val_accuracy: 0.5747\n",
      "Epoch 43/100\n",
      "13/13 [==============================] - 9s 728ms/step - loss: 0.5198 - accuracy: 0.7750 - val_loss: 0.8858 - val_accuracy: 0.5862\n",
      "Epoch 44/100\n",
      "13/13 [==============================] - 9s 672ms/step - loss: 0.5285 - accuracy: 0.7500 - val_loss: 0.8684 - val_accuracy: 0.5977\n",
      "Epoch 45/100\n",
      "13/13 [==============================] - 11s 844ms/step - loss: 0.5674 - accuracy: 0.7100 - val_loss: 0.8556 - val_accuracy: 0.5977\n",
      "Epoch 46/100\n",
      "13/13 [==============================] - 10s 752ms/step - loss: 0.5114 - accuracy: 0.7450 - val_loss: 0.8923 - val_accuracy: 0.5977\n",
      "Epoch 47/100\n",
      "13/13 [==============================] - 9s 686ms/step - loss: 0.5172 - accuracy: 0.7500 - val_loss: 0.8493 - val_accuracy: 0.6092\n",
      "Epoch 48/100\n",
      "13/13 [==============================] - 9s 678ms/step - loss: 0.5343 - accuracy: 0.7300 - val_loss: 0.8577 - val_accuracy: 0.6207\n",
      "Epoch 49/100\n",
      "13/13 [==============================] - 9s 660ms/step - loss: 0.5387 - accuracy: 0.7350 - val_loss: 0.9017 - val_accuracy: 0.6092\n",
      "Epoch 50/100\n",
      "13/13 [==============================] - 8s 635ms/step - loss: 0.5346 - accuracy: 0.7150 - val_loss: 0.8823 - val_accuracy: 0.5977\n",
      "Epoch 51/100\n",
      "13/13 [==============================] - 8s 655ms/step - loss: 0.5317 - accuracy: 0.7250 - val_loss: 0.8330 - val_accuracy: 0.5862\n",
      "Epoch 52/100\n",
      "13/13 [==============================] - 9s 713ms/step - loss: 0.5120 - accuracy: 0.7400 - val_loss: 0.9685 - val_accuracy: 0.6207\n",
      "Epoch 53/100\n",
      "13/13 [==============================] - 9s 685ms/step - loss: 0.5510 - accuracy: 0.7100 - val_loss: 0.8249 - val_accuracy: 0.5862\n",
      "Epoch 54/100\n",
      "13/13 [==============================] - 10s 739ms/step - loss: 0.5069 - accuracy: 0.7500 - val_loss: 0.8976 - val_accuracy: 0.6092\n",
      "Epoch 55/100\n",
      "13/13 [==============================] - 10s 764ms/step - loss: 0.5098 - accuracy: 0.7550 - val_loss: 0.9526 - val_accuracy: 0.6207\n",
      "Epoch 56/100\n",
      "13/13 [==============================] - 10s 777ms/step - loss: 0.5126 - accuracy: 0.7400 - val_loss: 0.9376 - val_accuracy: 0.5977\n",
      "Epoch 57/100\n",
      "13/13 [==============================] - 9s 702ms/step - loss: 0.5285 - accuracy: 0.7550 - val_loss: 0.8932 - val_accuracy: 0.6092\n"
     ]
    },
    {
     "name": "stdout",
     "output_type": "stream",
     "text": [
      "Epoch 58/100\n",
      "13/13 [==============================] - 10s 776ms/step - loss: 0.5271 - accuracy: 0.7450 - val_loss: 0.8985 - val_accuracy: 0.6092\n",
      "Epoch 59/100\n",
      "13/13 [==============================] - 10s 747ms/step - loss: 0.4873 - accuracy: 0.7400 - val_loss: 0.9314 - val_accuracy: 0.6092\n",
      "Epoch 60/100\n",
      "13/13 [==============================] - 8s 648ms/step - loss: 0.5018 - accuracy: 0.7400 - val_loss: 0.9563 - val_accuracy: 0.5977\n",
      "Epoch 61/100\n",
      "13/13 [==============================] - 8s 648ms/step - loss: 0.5059 - accuracy: 0.7500 - val_loss: 0.9399 - val_accuracy: 0.5862\n",
      "Epoch 62/100\n",
      "13/13 [==============================] - 9s 703ms/step - loss: 0.5422 - accuracy: 0.7500 - val_loss: 0.9766 - val_accuracy: 0.5977\n",
      "Epoch 63/100\n",
      "13/13 [==============================] - 9s 683ms/step - loss: 0.5151 - accuracy: 0.7600 - val_loss: 0.9228 - val_accuracy: 0.6092\n",
      "Epoch 64/100\n",
      "13/13 [==============================] - 9s 687ms/step - loss: 0.5262 - accuracy: 0.7400 - val_loss: 0.9220 - val_accuracy: 0.5977\n",
      "Epoch 65/100\n",
      "13/13 [==============================] - 9s 693ms/step - loss: 0.5081 - accuracy: 0.7550 - val_loss: 0.8829 - val_accuracy: 0.6092\n",
      "Epoch 66/100\n",
      "13/13 [==============================] - 9s 699ms/step - loss: 0.5396 - accuracy: 0.6750 - val_loss: 0.8723 - val_accuracy: 0.5862\n",
      "Epoch 67/100\n",
      "13/13 [==============================] - 9s 731ms/step - loss: 0.4999 - accuracy: 0.7500 - val_loss: 0.9428 - val_accuracy: 0.5747\n",
      "Epoch 68/100\n",
      "13/13 [==============================] - 9s 727ms/step - loss: 0.5113 - accuracy: 0.7500 - val_loss: 0.9974 - val_accuracy: 0.5977\n",
      "Epoch 69/100\n",
      "13/13 [==============================] - 9s 731ms/step - loss: 0.5274 - accuracy: 0.7150 - val_loss: 0.8675 - val_accuracy: 0.5862\n",
      "Epoch 70/100\n",
      "13/13 [==============================] - 9s 691ms/step - loss: 0.5124 - accuracy: 0.7400 - val_loss: 0.9285 - val_accuracy: 0.6092\n",
      "Epoch 71/100\n",
      "13/13 [==============================] - 9s 715ms/step - loss: 0.4999 - accuracy: 0.7550 - val_loss: 0.9480 - val_accuracy: 0.5862\n",
      "Epoch 72/100\n",
      "13/13 [==============================] - 9s 728ms/step - loss: 0.5221 - accuracy: 0.7450 - val_loss: 0.9473 - val_accuracy: 0.5862\n",
      "Epoch 73/100\n",
      "13/13 [==============================] - 9s 721ms/step - loss: 0.5155 - accuracy: 0.7850 - val_loss: 0.9527 - val_accuracy: 0.5977\n",
      "Epoch 74/100\n",
      "13/13 [==============================] - 11s 872ms/step - loss: 0.5060 - accuracy: 0.7400 - val_loss: 0.9646 - val_accuracy: 0.5977\n",
      "Epoch 75/100\n",
      "13/13 [==============================] - 11s 897ms/step - loss: 0.5008 - accuracy: 0.7400 - val_loss: 0.9578 - val_accuracy: 0.5977\n",
      "Epoch 76/100\n",
      "13/13 [==============================] - 10s 792ms/step - loss: 0.5067 - accuracy: 0.7500 - val_loss: 0.9768 - val_accuracy: 0.5862\n",
      "Epoch 77/100\n",
      "13/13 [==============================] - 10s 756ms/step - loss: 0.5193 - accuracy: 0.7450 - val_loss: 0.9251 - val_accuracy: 0.5977\n",
      "Epoch 78/100\n",
      "13/13 [==============================] - 10s 808ms/step - loss: 0.5032 - accuracy: 0.7500 - val_loss: 0.9453 - val_accuracy: 0.5977\n",
      "Epoch 79/100\n",
      "13/13 [==============================] - 10s 789ms/step - loss: 0.5014 - accuracy: 0.7650 - val_loss: 0.9646 - val_accuracy: 0.5747\n",
      "Epoch 80/100\n",
      "13/13 [==============================] - 10s 796ms/step - loss: 0.5137 - accuracy: 0.7500 - val_loss: 0.9457 - val_accuracy: 0.5977\n",
      "Epoch 81/100\n",
      "13/13 [==============================] - 16s 1s/step - loss: 0.4908 - accuracy: 0.7650 - val_loss: 0.9398 - val_accuracy: 0.5862\n",
      "Epoch 82/100\n",
      "13/13 [==============================] - 12s 858ms/step - loss: 0.5131 - accuracy: 0.7500 - val_loss: 0.9521 - val_accuracy: 0.5862\n",
      "Epoch 83/100\n",
      "13/13 [==============================] - 10s 767ms/step - loss: 0.5204 - accuracy: 0.7300 - val_loss: 0.9278 - val_accuracy: 0.5862\n",
      "Epoch 84/100\n",
      "13/13 [==============================] - 10s 798ms/step - loss: 0.4670 - accuracy: 0.7600 - val_loss: 0.9534 - val_accuracy: 0.5862\n",
      "Epoch 85/100\n",
      "13/13 [==============================] - 10s 798ms/step - loss: 0.4959 - accuracy: 0.7850 - val_loss: 1.0051 - val_accuracy: 0.5747\n",
      "Epoch 86/100\n",
      "13/13 [==============================] - 10s 781ms/step - loss: 0.4898 - accuracy: 0.7700 - val_loss: 0.9984 - val_accuracy: 0.5632\n",
      "Epoch 87/100\n",
      "13/13 [==============================] - 10s 786ms/step - loss: 0.5156 - accuracy: 0.7550 - val_loss: 0.9538 - val_accuracy: 0.5747\n",
      "Epoch 88/100\n",
      "13/13 [==============================] - 11s 839ms/step - loss: 0.4809 - accuracy: 0.7850 - val_loss: 0.9883 - val_accuracy: 0.5862\n",
      "Epoch 89/100\n",
      "13/13 [==============================] - 10s 774ms/step - loss: 0.4810 - accuracy: 0.7700 - val_loss: 0.9561 - val_accuracy: 0.5862\n",
      "Epoch 90/100\n",
      "13/13 [==============================] - 12s 898ms/step - loss: 0.4936 - accuracy: 0.7200 - val_loss: 1.0651 - val_accuracy: 0.5747\n",
      "Epoch 91/100\n",
      "13/13 [==============================] - 11s 846ms/step - loss: 0.5004 - accuracy: 0.7550 - val_loss: 0.9584 - val_accuracy: 0.5747\n",
      "Epoch 92/100\n",
      "13/13 [==============================] - 12s 900ms/step - loss: 0.5257 - accuracy: 0.7100 - val_loss: 0.9676 - val_accuracy: 0.5862\n",
      "Epoch 93/100\n",
      "13/13 [==============================] - 10s 783ms/step - loss: 0.4948 - accuracy: 0.7500 - val_loss: 0.8998 - val_accuracy: 0.5977\n",
      "Epoch 94/100\n",
      "13/13 [==============================] - 9s 701ms/step - loss: 0.4642 - accuracy: 0.8000 - val_loss: 0.9915 - val_accuracy: 0.5747\n",
      "Epoch 95/100\n",
      "13/13 [==============================] - 10s 764ms/step - loss: 0.4487 - accuracy: 0.8100 - val_loss: 0.9742 - val_accuracy: 0.5977\n",
      "Epoch 96/100\n",
      "13/13 [==============================] - 10s 812ms/step - loss: 0.4922 - accuracy: 0.7600 - val_loss: 1.0249 - val_accuracy: 0.5977\n",
      "Epoch 97/100\n",
      "13/13 [==============================] - 10s 786ms/step - loss: 0.4971 - accuracy: 0.7250 - val_loss: 0.9644 - val_accuracy: 0.6092\n",
      "Epoch 98/100\n",
      "13/13 [==============================] - 9s 690ms/step - loss: 0.4512 - accuracy: 0.8000 - val_loss: 1.0527 - val_accuracy: 0.6207\n",
      "Epoch 99/100\n",
      "13/13 [==============================] - 8s 645ms/step - loss: 0.5099 - accuracy: 0.7700 - val_loss: 1.0103 - val_accuracy: 0.6092\n",
      "Epoch 100/100\n",
      "13/13 [==============================] - 8s 640ms/step - loss: 0.4947 - accuracy: 0.7550 - val_loss: 0.9744 - val_accuracy: 0.5977\n"
     ]
    }
   ],
   "source": [
    "es = EarlyStopping(patience=10, restore_best_weights=True, monitor = \"val_loss\")\n",
    "lrate = LearningRateScheduler(step_decay)\n",
    "callbacks_list = []\n",
    "history = model.fit(augmenter.hair_flow, validation_data = (X_val, y_val),\n",
    "          epochs=100, batch_size=8, verbose=1, callbacks = callbacks_list)"
   ]
  },
  {
   "cell_type": "markdown",
   "id": "af2ce990",
   "metadata": {
    "ExecuteTime": {
     "end_time": "2021-07-06T12:32:35.320469Z",
     "start_time": "2021-07-06T12:32:34.951588Z"
    }
   },
   "source": [
    "## plot_history(history)"
   ]
  },
  {
   "cell_type": "code",
   "execution_count": 70,
   "id": "b4b3c027",
   "metadata": {
    "ExecuteTime": {
     "end_time": "2021-07-06T12:49:42.482927Z",
     "start_time": "2021-07-06T12:49:41.598622Z"
    }
   },
   "outputs": [
    {
     "name": "stdout",
     "output_type": "stream",
     "text": [
      "4/4 [==============================] - 1s 205ms/step - loss: 0.5913 - accuracy: 0.7480\n"
     ]
    },
    {
     "data": {
      "text/plain": [
       "[0.5913227796554565, 0.7479674816131592]"
      ]
     },
     "execution_count": 70,
     "metadata": {},
     "output_type": "execute_result"
    }
   ],
   "source": [
    "model.evaluate(X_test, y_test)"
   ]
  },
  {
   "cell_type": "code",
   "execution_count": 71,
   "id": "6c391437",
   "metadata": {
    "ExecuteTime": {
     "end_time": "2021-07-06T12:50:06.210381Z",
     "start_time": "2021-07-06T12:50:05.719499Z"
    }
   },
   "outputs": [
    {
     "data": {
      "text/plain": [
       "(<AxesSubplot:title={'center':'loss'}>,\n",
       " <AxesSubplot:title={'center':'Accuracy'}>)"
      ]
     },
     "execution_count": 71,
     "metadata": {},
     "output_type": "execute_result"
    },
    {
     "data": {
      "image/png": "[encoded data removed]",
      "text/plain": [
       "<Figure size 864x288 with 2 Axes>"
      ]
     },
     "metadata": {
      "needs_background": "light"
     },
     "output_type": "display_data"
    }
   ],
   "source": [
    "plot_history(history)"
   ]
  },
  {
   "cell_type": "code",
   "execution_count": 54,
   "id": "2ebffb0d",
   "metadata": {
    "ExecuteTime": {
     "end_time": "2021-07-06T12:19:56.188562Z",
     "start_time": "2021-07-06T12:19:56.124114Z"
    }
   },
   "outputs": [],
   "source": [
    "#model.save_weights(\"/home/aymeric/code/Aymeric-B/elle_ebene/model_weights/seg_aug_prewitt/weights\")"
   ]
  },
  {
   "cell_type": "code",
   "execution_count": null,
   "id": "44ef35b2",
   "metadata": {},
   "outputs": [],
   "source": []
  }
 ],
 "metadata": {
  "kernelspec": {
   "display_name": "Python 3",
   "language": "python",
   "name": "python3"
  },
  "language_info": {
   "codemirror_mode": {
    "name": "ipython",
    "version": 3
   },
   "file_extension": ".py",
   "mimetype": "text/x-python",
   "name": "python",
   "nbconvert_exporter": "python",
   "pygments_lexer": "ipython3",
   "version": "3.8.6"
  },
  "toc": {
   "base_numbering": 1,
   "nav_menu": {},
   "number_sections": true,
   "sideBar": true,
   "skip_h1_title": false,
   "title_cell": "Table of Contents",
   "title_sidebar": "Contents",
   "toc_cell": false,
   "toc_position": {},
   "toc_section_display": true,
   "toc_window_display": false
  },
  "varInspector": {
   "cols": {
    "lenName": 16,
    "lenType": 16,
    "lenVar": 40
   },
   "kernels_config": {
    "python": {
     "delete_cmd_postfix": "",
     "delete_cmd_prefix": "del ",
     "library": "var_list.py",
     "varRefreshCmd": "print(var_dic_list())"
    },
    "r": {
     "delete_cmd_postfix": ") ",
     "delete_cmd_prefix": "rm(",
     "library": "var_list.r",
     "varRefreshCmd": "cat(var_dic_list()) "
    }
   },
   "types_to_exclude": [
    "module",
    "function",
    "builtin_function_or_method",
    "instance",
    "_Feature"
   ],
   "window_display": false
  }
 },
 "nbformat": 4,
 "nbformat_minor": 5
}
