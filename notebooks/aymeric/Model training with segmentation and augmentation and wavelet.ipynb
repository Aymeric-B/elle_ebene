{
 "cells": [
  {
   "cell_type": "markdown",
   "id": "99aff731",
   "metadata": {},
   "source": [
    "# Model with segmentation and augmentation"
   ]
  },
  {
   "cell_type": "markdown",
   "id": "00b72f17",
   "metadata": {
    "ExecuteTime": {
     "end_time": "2021-07-05T11:57:49.805293Z",
     "start_time": "2021-07-05T11:57:49.756999Z"
    }
   },
   "source": [
    "## Imports"
   ]
  },
  {
   "cell_type": "code",
   "execution_count": 1,
   "id": "7051387b",
   "metadata": {
    "ExecuteTime": {
     "end_time": "2021-07-05T14:23:28.668214Z",
     "start_time": "2021-07-05T14:23:23.931757Z"
    }
   },
   "outputs": [],
   "source": [
    "%load_ext autoreload\n",
    "%autoreload 2\n",
    "\n",
    "import matplotlib.pyplot as plt\n",
    "import os\n",
    "import numpy as np\n",
    "from sklearn.model_selection import train_test_split\n",
    "\n",
    "from  PIL import Image\n",
    "\n",
    "from elle_ebene.utils.simple_preprocessing import get_images, to_numpy_rgb, squared_imgs, create_dataset\n",
    "from elle_ebene.hair_segmentation.hair_seg import HairSegmenter\n",
    "from elle_ebene.utils.data_aug_c import Hairgenerator\n",
    "\n",
    "\n",
    "from tensorflow.keras.preprocessing.image import ImageDataGenerator\n",
    "from tensorflow.keras.utils import to_categorical\n",
    "from tensorflow.keras import models\n",
    "from tensorflow.keras import layers\n",
    "from tensorflow.keras import optimizers\n",
    "from tensorflow.keras.callbacks import EarlyStopping\n",
    "from keras.callbacks import LearningRateScheduler\n",
    "import math\n",
    "from tensorflow.keras import regularizers"
   ]
  },
  {
   "cell_type": "markdown",
   "id": "eb892b2f",
   "metadata": {},
   "source": [
    "## Dataset"
   ]
  },
  {
   "cell_type": "code",
   "execution_count": 2,
   "id": "ae5133a3",
   "metadata": {
    "ExecuteTime": {
     "end_time": "2021-07-05T14:23:36.134379Z",
     "start_time": "2021-07-05T14:23:29.986545Z"
    }
   },
   "outputs": [],
   "source": [
    "type3_imgs = get_images(\"Type 3\",resizing_dim=224)\n",
    "type4_imgs = get_images(\"Type 4\",resizing_dim=224)"
   ]
  },
  {
   "cell_type": "code",
   "execution_count": 3,
   "id": "9eb2b7d8",
   "metadata": {
    "ExecuteTime": {
     "end_time": "2021-07-05T14:24:34.036446Z",
     "start_time": "2021-07-05T14:24:20.677754Z"
    }
   },
   "outputs": [],
   "source": [
    "type3_imgs_rgb = to_numpy_rgb(type3_imgs)\n",
    "type4_imgs_rgb = to_numpy_rgb(type4_imgs)"
   ]
  },
  {
   "cell_type": "code",
   "execution_count": 4,
   "id": "fbc0c541",
   "metadata": {
    "ExecuteTime": {
     "end_time": "2021-07-05T14:24:37.962289Z",
     "start_time": "2021-07-05T14:24:35.634375Z"
    }
   },
   "outputs": [],
   "source": [
    "type3_imgs_squared = squared_imgs(type3_imgs_rgb)\n",
    "type4_imgs_squared = squared_imgs(type4_imgs_rgb)"
   ]
  },
  {
   "cell_type": "code",
   "execution_count": 5,
   "id": "e15498e1",
   "metadata": {
    "ExecuteTime": {
     "end_time": "2021-07-05T14:24:40.751122Z",
     "start_time": "2021-07-05T14:24:38.872914Z"
    }
   },
   "outputs": [],
   "source": [
    "segmenter = HairSegmenter()\n",
    "segmenter.model_init()"
   ]
  },
  {
   "cell_type": "code",
   "execution_count": 6,
   "id": "0003924b",
   "metadata": {
    "ExecuteTime": {
     "end_time": "2021-07-05T14:25:20.570516Z",
     "start_time": "2021-07-05T14:24:41.683661Z"
    }
   },
   "outputs": [],
   "source": [
    "hairs_type3 = segmenter.get_hairs(type3_imgs_squared)\n",
    "hairs_type4 = segmenter.get_hairs(type4_imgs_squared)"
   ]
  },
  {
   "cell_type": "code",
   "execution_count": 7,
   "id": "23b40fef",
   "metadata": {
    "ExecuteTime": {
     "end_time": "2021-07-05T14:25:21.987706Z",
     "start_time": "2021-07-05T14:25:21.955689Z"
    }
   },
   "outputs": [],
   "source": [
    "type3_labels = np.full((len(hairs_type3),),3)\n",
    "type4_labels = np.full((len(hairs_type4),),4)"
   ]
  },
  {
   "cell_type": "code",
   "execution_count": 59,
   "id": "f394cfc1",
   "metadata": {
    "ExecuteTime": {
     "end_time": "2021-07-05T16:09:09.555860Z",
     "start_time": "2021-07-05T16:09:09.444689Z"
    }
   },
   "outputs": [],
   "source": [
    "X, y = create_dataset([hairs_type3, hairs_type4], [type3_labels, type4_labels])\n",
    "\n",
    "X_train, X_test, y_train, y_test = train_test_split(X, y, test_size=0.2)\n",
    "X_train, X_val, y_train, y_val = train_test_split(X_train, y_train, test_size=0.2)"
   ]
  },
  {
   "cell_type": "markdown",
   "id": "0e3d0478",
   "metadata": {},
   "source": [
    "## Normalisation et encoding"
   ]
  },
  {
   "cell_type": "code",
   "execution_count": 60,
   "id": "662b992f",
   "metadata": {
    "ExecuteTime": {
     "end_time": "2021-07-05T16:09:11.243213Z",
     "start_time": "2021-07-05T16:09:10.893008Z"
    }
   },
   "outputs": [],
   "source": [
    "X_train = X_train / 255\n",
    "X_test = X_test / 255\n",
    "X_val = X_val / 255"
   ]
  },
  {
   "cell_type": "code",
   "execution_count": 61,
   "id": "94a7490e",
   "metadata": {
    "ExecuteTime": {
     "end_time": "2021-07-05T16:09:12.760293Z",
     "start_time": "2021-07-05T16:09:12.726363Z"
    }
   },
   "outputs": [],
   "source": [
    "y_train = to_categorical(y_train,5)[:,-2:]\n",
    "y_val = to_categorical(y_val,5)[:,-2:]\n",
    "y_test = to_categorical(y_test,5)[:,-2:]"
   ]
  },
  {
   "cell_type": "markdown",
   "id": "f569e9a4",
   "metadata": {},
   "source": [
    "## Data augmentation"
   ]
  },
  {
   "cell_type": "code",
   "execution_count": 62,
   "id": "847cbc58",
   "metadata": {
    "ExecuteTime": {
     "end_time": "2021-07-05T16:09:14.354557Z",
     "start_time": "2021-07-05T16:09:14.320307Z"
    }
   },
   "outputs": [],
   "source": [
    "augmenter = Hairgenerator()"
   ]
  },
  {
   "cell_type": "code",
   "execution_count": 66,
   "id": "cf5aa105",
   "metadata": {
    "ExecuteTime": {
     "end_time": "2021-07-05T16:09:32.152000Z",
     "start_time": "2021-07-05T16:09:27.636291Z"
    }
   },
   "outputs": [],
   "source": [
    "augmenter.datagen(X_train, y_train, batch_size=16, rotation_range=20, width_shift_range=0.1,\n",
    "                  height_shift_range=0.1, horizontal_flip=True, fill_mode='nearest',\n",
    "                  brightness_range=None)"
   ]
  },
  {
   "cell_type": "markdown",
   "id": "09b4ead9",
   "metadata": {},
   "source": [
    "## Model"
   ]
  },
  {
   "cell_type": "code",
   "execution_count": 67,
   "id": "9330d70d",
   "metadata": {
    "ExecuteTime": {
     "end_time": "2021-07-05T16:09:33.709216Z",
     "start_time": "2021-07-05T16:09:33.675470Z"
    }
   },
   "outputs": [],
   "source": [
    "def plot_history(history, title='', axs=None, exp_name=\"\"):\n",
    "    if axs is not None:\n",
    "        ax1, ax2 = axs\n",
    "    else:\n",
    "        f, (ax1, ax2) = plt.subplots(1, 2, figsize=(12, 4))\n",
    "    \n",
    "    if len(exp_name) > 0 and exp_name[0] != '_':\n",
    "        exp_name = '_' + exp_name\n",
    "    ax1.plot(history.history['loss'], label='train' + exp_name)\n",
    "    ax1.plot(history.history['val_loss'], label='val' + exp_name)\n",
    "    ax1.set_ylim(0., 1)\n",
    "    ax1.set_title('loss')\n",
    "    ax1.legend()\n",
    "\n",
    "    ax2.plot(history.history['accuracy'], label='train accuracy'  + exp_name)\n",
    "    ax2.plot(history.history['val_accuracy'], label='val accuracy'  + exp_name)\n",
    "    ax2.set_ylim(0.25, 1.)\n",
    "    ax2.set_title('Accuracy')\n",
    "    ax2.legend()\n",
    "    return (ax1, ax2)"
   ]
  },
  {
   "cell_type": "code",
   "execution_count": 72,
   "id": "4fa4d52c",
   "metadata": {
    "ExecuteTime": {
     "end_time": "2021-07-05T16:12:10.782522Z",
     "start_time": "2021-07-05T16:12:10.744546Z"
    }
   },
   "outputs": [],
   "source": [
    "def initialize_model():\n",
    "   \n",
    "    model  = models.Sequential()\n",
    "    \n",
    "    ### First convolution & max-pooling\n",
    "    model.add(layers.Conv2D(16, kernel_size=(4, 4), activation='relu', input_shape=(224, 224, 3), padding = \"same\"))\n",
    "    #model.add(layers.Dropout(rate=0.2))\n",
    "    \n",
    "    ### Second convolution\n",
    "    model.add(layers.Conv2D(16, kernel_size=(3, 3), activation='relu', padding = \"same\"))\n",
    "    model.add(layers.MaxPool2D(pool_size = (4,4)))    \n",
    "    #model.add(layers.Dropout(rate=0.2))\n",
    "    \n",
    "    ### Third convolution\n",
    "    model.add(layers.Conv2D(32, kernel_size=(3, 3), activation='relu', padding = \"same\"))  \n",
    "    #model.add(layers.Dropout(rate=0.2))\n",
    "    \n",
    "    ### Fourth convolution\n",
    "    model.add(layers.Conv2D(32, kernel_size=(3, 3), activation='relu', padding = \"same\"))\n",
    "    model.add(layers.MaxPool2D(pool_size = (4,4)))    \n",
    "    #model.add(layers.Dropout(rate=0.2))\n",
    "    \n",
    "    ### Flattening\n",
    "    model.add(layers.Flatten())\n",
    "    \n",
    "    ### One fully connected\n",
    "    model.add(layers.Dense(32, activation='relu')) \n",
    "    #model.add(layers.Dropout(rate=0.2))\n",
    "\n",
    "    ### Last layer\n",
    "    model.add(layers.Dense(2, activation='sigmoid')) \n",
    "\n",
    "    model.compile(loss='binary_crossentropy',\n",
    "            optimizer=optimizers.Adam(learning_rate = 0.001),\n",
    "            metrics=['accuracy'])\n",
    "    \n",
    "    return model"
   ]
  },
  {
   "cell_type": "code",
   "execution_count": 73,
   "id": "6a5851dd",
   "metadata": {
    "ExecuteTime": {
     "end_time": "2021-07-05T16:12:12.279577Z",
     "start_time": "2021-07-05T16:12:12.183083Z"
    }
   },
   "outputs": [
    {
     "name": "stdout",
     "output_type": "stream",
     "text": [
      "Model: \"sequential_10\"\n",
      "_________________________________________________________________\n",
      "Layer (type)                 Output Shape              Param #   \n",
      "=================================================================\n",
      "conv2d_41 (Conv2D)           (None, 224, 224, 16)      784       \n",
      "_________________________________________________________________\n",
      "conv2d_42 (Conv2D)           (None, 224, 224, 16)      2320      \n",
      "_________________________________________________________________\n",
      "max_pooling2d_20 (MaxPooling (None, 56, 56, 16)        0         \n",
      "_________________________________________________________________\n",
      "conv2d_43 (Conv2D)           (None, 56, 56, 32)        4640      \n",
      "_________________________________________________________________\n",
      "conv2d_44 (Conv2D)           (None, 56, 56, 32)        9248      \n",
      "_________________________________________________________________\n",
      "max_pooling2d_21 (MaxPooling (None, 14, 14, 32)        0         \n",
      "_________________________________________________________________\n",
      "flatten_10 (Flatten)         (None, 6272)              0         \n",
      "_________________________________________________________________\n",
      "dense_20 (Dense)             (None, 32)                200736    \n",
      "_________________________________________________________________\n",
      "dense_21 (Dense)             (None, 2)                 66        \n",
      "=================================================================\n",
      "Total params: 217,794\n",
      "Trainable params: 217,794\n",
      "Non-trainable params: 0\n",
      "_________________________________________________________________\n"
     ]
    }
   ],
   "source": [
    "model = initialize_model()\n",
    "model.summary()"
   ]
  },
  {
   "cell_type": "code",
   "execution_count": 74,
   "id": "858efec1",
   "metadata": {
    "ExecuteTime": {
     "end_time": "2021-07-05T16:12:13.704491Z",
     "start_time": "2021-07-05T16:12:13.673207Z"
    }
   },
   "outputs": [],
   "source": [
    "# learning rate schedule\n",
    "def step_decay(epoch, lr):\n",
    "    decay = 0.5\n",
    "    lr *= (1. / (1. + decay * epoch))\n",
    "    return lr"
   ]
  },
  {
   "cell_type": "code",
   "execution_count": 75,
   "id": "f8cbea9c",
   "metadata": {
    "ExecuteTime": {
     "end_time": "2021-07-05T16:18:18.167420Z",
     "start_time": "2021-07-05T16:12:15.093077Z"
    }
   },
   "outputs": [
    {
     "name": "stdout",
     "output_type": "stream",
     "text": [
      "Epoch 1/200\n",
      "17/17 [==============================] - 9s 528ms/step - loss: 0.7355 - accuracy: 0.4427 - val_loss: 0.6945 - val_accuracy: 0.4848\n",
      "Epoch 2/200\n",
      "17/17 [==============================] - 10s 575ms/step - loss: 0.6926 - accuracy: 0.4847 - val_loss: 0.6913 - val_accuracy: 0.5152\n",
      "Epoch 3/200\n",
      "17/17 [==============================] - 11s 607ms/step - loss: 0.6898 - accuracy: 0.5305 - val_loss: 0.6865 - val_accuracy: 0.5152\n",
      "Epoch 4/200\n",
      "17/17 [==============================] - 10s 570ms/step - loss: 0.6867 - accuracy: 0.5496 - val_loss: 0.6779 - val_accuracy: 0.6970\n",
      "Epoch 5/200\n",
      "17/17 [==============================] - 10s 584ms/step - loss: 0.6707 - accuracy: 0.6145 - val_loss: 0.6646 - val_accuracy: 0.5606\n",
      "Epoch 6/200\n",
      "17/17 [==============================] - 9s 536ms/step - loss: 0.6426 - accuracy: 0.6145 - val_loss: 0.6415 - val_accuracy: 0.5758\n",
      "Epoch 7/200\n",
      "17/17 [==============================] - 9s 531ms/step - loss: 0.6144 - accuracy: 0.6756 - val_loss: 0.6677 - val_accuracy: 0.5758\n",
      "Epoch 8/200\n",
      "17/17 [==============================] - 9s 523ms/step - loss: 0.6307 - accuracy: 0.6603 - val_loss: 0.5890 - val_accuracy: 0.7273\n",
      "Epoch 9/200\n",
      "17/17 [==============================] - 9s 529ms/step - loss: 0.6112 - accuracy: 0.6870 - val_loss: 0.6005 - val_accuracy: 0.7121\n",
      "Epoch 10/200\n",
      "17/17 [==============================] - 9s 550ms/step - loss: 0.6116 - accuracy: 0.6679 - val_loss: 0.6062 - val_accuracy: 0.6970\n",
      "Epoch 11/200\n",
      "17/17 [==============================] - 9s 542ms/step - loss: 0.5859 - accuracy: 0.6985 - val_loss: 0.5647 - val_accuracy: 0.6970\n",
      "Epoch 12/200\n",
      "17/17 [==============================] - 9s 539ms/step - loss: 0.5659 - accuracy: 0.7137 - val_loss: 0.5729 - val_accuracy: 0.7121\n",
      "Epoch 13/200\n",
      "17/17 [==============================] - 9s 539ms/step - loss: 0.5539 - accuracy: 0.7366 - val_loss: 0.5580 - val_accuracy: 0.7727\n",
      "Epoch 14/200\n",
      "17/17 [==============================] - 9s 536ms/step - loss: 0.5533 - accuracy: 0.7023 - val_loss: 0.5872 - val_accuracy: 0.6970\n",
      "Epoch 15/200\n",
      "17/17 [==============================] - 9s 532ms/step - loss: 0.5623 - accuracy: 0.7023 - val_loss: 0.6142 - val_accuracy: 0.6515\n",
      "Epoch 16/200\n",
      "17/17 [==============================] - 10s 570ms/step - loss: 0.5491 - accuracy: 0.7176 - val_loss: 0.6278 - val_accuracy: 0.6667\n",
      "Epoch 17/200\n",
      "17/17 [==============================] - 9s 541ms/step - loss: 0.5424 - accuracy: 0.7405 - val_loss: 0.5397 - val_accuracy: 0.7576\n",
      "Epoch 18/200\n",
      "17/17 [==============================] - 9s 544ms/step - loss: 0.5611 - accuracy: 0.7176 - val_loss: 0.5710 - val_accuracy: 0.7273\n",
      "Epoch 19/200\n",
      "17/17 [==============================] - 10s 553ms/step - loss: 0.5423 - accuracy: 0.7557 - val_loss: 0.5166 - val_accuracy: 0.7576\n",
      "Epoch 20/200\n",
      "17/17 [==============================] - 9s 545ms/step - loss: 0.5388 - accuracy: 0.7481 - val_loss: 0.5276 - val_accuracy: 0.7273\n",
      "Epoch 21/200\n",
      "17/17 [==============================] - 9s 549ms/step - loss: 0.5173 - accuracy: 0.7405 - val_loss: 0.5670 - val_accuracy: 0.6970\n",
      "Epoch 22/200\n",
      "17/17 [==============================] - 9s 539ms/step - loss: 0.5376 - accuracy: 0.7481 - val_loss: 0.5240 - val_accuracy: 0.7424\n",
      "Epoch 23/200\n",
      "17/17 [==============================] - 9s 553ms/step - loss: 0.5087 - accuracy: 0.7672 - val_loss: 0.5364 - val_accuracy: 0.7273\n",
      "Epoch 24/200\n",
      "17/17 [==============================] - 9s 531ms/step - loss: 0.5051 - accuracy: 0.7710 - val_loss: 0.5876 - val_accuracy: 0.7273\n",
      "Epoch 25/200\n",
      "17/17 [==============================] - 9s 545ms/step - loss: 0.5396 - accuracy: 0.7176 - val_loss: 0.5506 - val_accuracy: 0.7273\n",
      "Epoch 26/200\n",
      "17/17 [==============================] - 9s 539ms/step - loss: 0.5633 - accuracy: 0.7328 - val_loss: 0.5220 - val_accuracy: 0.7273\n",
      "Epoch 27/200\n",
      "17/17 [==============================] - 10s 558ms/step - loss: 0.5189 - accuracy: 0.7481 - val_loss: 0.6882 - val_accuracy: 0.6818\n",
      "Epoch 28/200\n",
      "17/17 [==============================] - 11s 643ms/step - loss: 0.5365 - accuracy: 0.7290 - val_loss: 0.5114 - val_accuracy: 0.7424\n",
      "Epoch 29/200\n",
      "17/17 [==============================] - 10s 598ms/step - loss: 0.5128 - accuracy: 0.7634 - val_loss: 0.5170 - val_accuracy: 0.7121\n",
      "Epoch 30/200\n",
      "17/17 [==============================] - 10s 552ms/step - loss: 0.5032 - accuracy: 0.7557 - val_loss: 0.5231 - val_accuracy: 0.6970\n",
      "Epoch 31/200\n",
      "17/17 [==============================] - 10s 565ms/step - loss: 0.4988 - accuracy: 0.7672 - val_loss: 0.5219 - val_accuracy: 0.7273\n",
      "Epoch 32/200\n",
      "17/17 [==============================] - 9s 548ms/step - loss: 0.5062 - accuracy: 0.7710 - val_loss: 0.6035 - val_accuracy: 0.7121\n",
      "Epoch 33/200\n",
      "17/17 [==============================] - 9s 567ms/step - loss: 0.5127 - accuracy: 0.7634 - val_loss: 0.5878 - val_accuracy: 0.7273\n",
      "Epoch 34/200\n",
      "17/17 [==============================] - 9s 546ms/step - loss: 0.5075 - accuracy: 0.7557 - val_loss: 0.5154 - val_accuracy: 0.7424\n",
      "Epoch 35/200\n",
      "17/17 [==============================] - 10s 553ms/step - loss: 0.5018 - accuracy: 0.7901 - val_loss: 0.5176 - val_accuracy: 0.7273\n",
      "Epoch 36/200\n",
      "17/17 [==============================] - 10s 565ms/step - loss: 0.4745 - accuracy: 0.7863 - val_loss: 0.5120 - val_accuracy: 0.7424\n",
      "Epoch 37/200\n",
      "17/17 [==============================] - 9s 543ms/step - loss: 0.4898 - accuracy: 0.7786 - val_loss: 0.5309 - val_accuracy: 0.7273\n",
      "Epoch 38/200\n",
      "17/17 [==============================] - 9s 548ms/step - loss: 0.4824 - accuracy: 0.7748 - val_loss: 0.5388 - val_accuracy: 0.7424\n"
     ]
    }
   ],
   "source": [
    "es = EarlyStopping(patience=10, restore_best_weights=True, monitor = \"val_loss\")\n",
    "lrate = LearningRateScheduler(step_decay)\n",
    "callbacks_list = [es]\n",
    "history = model.fit(augmenter.hair_flow, validation_data = (X_val, y_val),\n",
    "          epochs=200, batch_size=16, verbose=1, callbacks = callbacks_list)"
   ]
  },
  {
   "cell_type": "code",
   "execution_count": 76,
   "id": "228c35c2",
   "metadata": {
    "ExecuteTime": {
     "end_time": "2021-07-05T16:18:21.842987Z",
     "start_time": "2021-07-05T16:18:21.536884Z"
    }
   },
   "outputs": [
    {
     "data": {
      "text/plain": [
       "(<AxesSubplot:title={'center':'loss'}>,\n",
       " <AxesSubplot:title={'center':'Accuracy'}>)"
      ]
     },
     "execution_count": 76,
     "metadata": {},
     "output_type": "execute_result"
    },
    {
     "data": {
      "image/png": "[encoded data removed]",
      "text/plain": [
       "<Figure size 864x288 with 2 Axes>"
      ]
     },
     "metadata": {
      "needs_background": "light"
     },
     "output_type": "display_data"
    }
   ],
   "source": [
    "plot_history(history)"
   ]
  },
  {
   "cell_type": "code",
   "execution_count": 77,
   "id": "b4b3c027",
   "metadata": {
    "ExecuteTime": {
     "end_time": "2021-07-05T16:18:30.125233Z",
     "start_time": "2021-07-05T16:18:29.582875Z"
    }
   },
   "outputs": [
    {
     "name": "stdout",
     "output_type": "stream",
     "text": [
      "3/3 [==============================] - 0s 140ms/step - loss: 0.5140 - accuracy: 0.7561\n"
     ]
    },
    {
     "data": {
      "text/plain": [
       "[0.5140107274055481, 0.7560975551605225]"
      ]
     },
     "execution_count": 77,
     "metadata": {},
     "output_type": "execute_result"
    }
   ],
   "source": [
    "model.evaluate(X_test, y_test)"
   ]
  },
  {
   "cell_type": "code",
   "execution_count": 78,
   "id": "2ebffb0d",
   "metadata": {
    "ExecuteTime": {
     "end_time": "2021-07-05T16:18:32.428234Z",
     "start_time": "2021-07-05T16:18:32.096453Z"
    }
   },
   "outputs": [],
   "source": [
    "model.save_weights(\"/home/aymeric/code/Aymeric-B/elle_ebene/model_weights/seg_aug/weights\")"
   ]
  },
  {
   "cell_type": "code",
   "execution_count": null,
   "id": "44ef35b2",
   "metadata": {},
   "outputs": [],
   "source": []
  }
 ],
 "metadata": {
  "kernelspec": {
   "display_name": "Python 3",
   "language": "python",
   "name": "python3"
  },
  "language_info": {
   "codemirror_mode": {
    "name": "ipython",
    "version": 3
   },
   "file_extension": ".py",
   "mimetype": "text/x-python",
   "name": "python",
   "nbconvert_exporter": "python",
   "pygments_lexer": "ipython3",
   "version": "3.8.6"
  },
  "toc": {
   "base_numbering": 1,
   "nav_menu": {},
   "number_sections": true,
   "sideBar": true,
   "skip_h1_title": false,
   "title_cell": "Table of Contents",
   "title_sidebar": "Contents",
   "toc_cell": false,
   "toc_position": {},
   "toc_section_display": true,
   "toc_window_display": false
  },
  "varInspector": {
   "cols": {
    "lenName": 16,
    "lenType": 16,
    "lenVar": 40
   },
   "kernels_config": {
    "python": {
     "delete_cmd_postfix": "",
     "delete_cmd_prefix": "del ",
     "library": "var_list.py",
     "varRefreshCmd": "print(var_dic_list())"
    },
    "r": {
     "delete_cmd_postfix": ") ",
     "delete_cmd_prefix": "rm(",
     "library": "var_list.r",
     "varRefreshCmd": "cat(var_dic_list()) "
    }
   },
   "types_to_exclude": [
    "module",
    "function",
    "builtin_function_or_method",
    "instance",
    "_Feature"
   ],
   "window_display": false
  }
 },
 "nbformat": 4,
 "nbformat_minor": 5
}
