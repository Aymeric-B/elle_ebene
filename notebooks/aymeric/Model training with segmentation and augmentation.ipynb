{
 "cells": [
  {
   "cell_type": "markdown",
   "id": "99aff731",
   "metadata": {},
   "source": [
    "# Model with segmentation and augmentation"
   ]
  },
  {
   "cell_type": "markdown",
   "id": "00b72f17",
   "metadata": {
    "ExecuteTime": {
     "end_time": "2021-07-05T11:57:49.805293Z",
     "start_time": "2021-07-05T11:57:49.756999Z"
    }
   },
   "source": [
    "## Imports"
   ]
  },
  {
   "cell_type": "code",
   "execution_count": 13,
   "id": "7051387b",
   "metadata": {
    "ExecuteTime": {
     "end_time": "2021-07-05T11:56:51.766530Z",
     "start_time": "2021-07-05T11:56:51.570149Z"
    }
   },
   "outputs": [
    {
     "name": "stdout",
     "output_type": "stream",
     "text": [
      "The autoreload extension is already loaded. To reload it, use:\n",
      "  %reload_ext autoreload\n"
     ]
    }
   ],
   "source": [
    "%load_ext autoreload\n",
    "%autoreload 2\n",
    "\n",
    "import matplotlib.pyplot as plt\n",
    "import os\n",
    "import numpy as np\n",
    "from sklearn.model_selection import train_test_split\n",
    "\n",
    "from  PIL import Image\n",
    "\n",
    "from elle_ebene.utils.simple_preprocessing import get_images, to_numpy_rgb, squared_imgs, create_dataset\n",
    "from elle_ebene.hair_segmentation.hair_seg import HairSegmenter\n",
    "\n",
    "from tensorflow.keras.preprocessing.image import ImageDataGenerator\n",
    "from tensorflow.keras.utils import to_categorical\n",
    "from tensorflow.keras import models\n",
    "from tensorflow.keras import layers\n",
    "from tensorflow.keras import optimizers\n",
    "from tensorflow.keras.callbacks import EarlyStopping\n",
    "from keras.callbacks import LearningRateScheduler\n",
    "import math\n",
    "from tensorflow.keras import regularizers"
   ]
  },
  {
   "cell_type": "markdown",
   "id": "eb892b2f",
   "metadata": {},
   "source": [
    "## Dataset"
   ]
  },
  {
   "cell_type": "code",
   "execution_count": 2,
   "id": "ae5133a3",
   "metadata": {
    "ExecuteTime": {
     "end_time": "2021-07-05T11:42:10.945509Z",
     "start_time": "2021-07-05T11:42:04.808775Z"
    }
   },
   "outputs": [],
   "source": [
    "type3_imgs = get_images(\"Type 3\",resizing_dim=224)\n",
    "type4_imgs = get_images(\"Type 4\",resizing_dim=224)\n",
    "\n",
    "type3_imgs_rgb = to_numpy_rgb(type3_imgs)\n",
    "type4_imgs_rgb = to_numpy_rgb(type4_imgs)\n",
    "\n",
    "type3_imgs_squared = squared_imgs(type3_imgs_rgb)\n",
    "type4_imgs_squared = squared_imgs(type4_imgs_rgb)\n",
    "\n",
    "segmenter = HairSegmenter()\n",
    "segmenter.model_init()\n",
    "\n",
    "hairs_type3 = segmenter.get_hairs(type3_imgs_squared)\n",
    "hairs_type4 = segmenter.get_hairs(type4_imgs_squared)\n",
    "\n",
    "type3_labels = np.full((len(hairs_type3),),3)\n",
    "type4_labels = np.full((len(hairs_type4),),4)"
   ]
  },
  {
   "cell_type": "code",
   "execution_count": 12,
   "id": "f394cfc1",
   "metadata": {
    "ExecuteTime": {
     "end_time": "2021-07-05T11:56:24.960539Z",
     "start_time": "2021-07-05T11:56:24.848827Z"
    }
   },
   "outputs": [],
   "source": [
    "X, y = create_dataset([hairs_type3, hairs_type4], [type3_labels, type4_labels])\n",
    "\n",
    "X_train, X_test, y_train, y_test = train_test_split(X, y, test_size=0.3)\n",
    "X_train, X_val, y_train, y_val = train_test_split(X_train, y_train, test_size=0.3)"
   ]
  },
  {
   "cell_type": "markdown",
   "id": "0e3d0478",
   "metadata": {},
   "source": [
    "## Normalisation et encoding"
   ]
  },
  {
   "cell_type": "code",
   "execution_count": 18,
   "id": "662b992f",
   "metadata": {
    "ExecuteTime": {
     "end_time": "2021-07-05T11:58:59.907616Z",
     "start_time": "2021-07-05T11:58:59.583934Z"
    }
   },
   "outputs": [],
   "source": [
    "X_train = X_train / 255\n",
    "X_test = X_test / 255\n",
    "X_val = X_val / 255"
   ]
  },
  {
   "cell_type": "code",
   "execution_count": 19,
   "id": "94a7490e",
   "metadata": {
    "ExecuteTime": {
     "end_time": "2021-07-05T11:59:05.381318Z",
     "start_time": "2021-07-05T11:59:05.336931Z"
    }
   },
   "outputs": [],
   "source": [
    "y_train = to_categorical(y_train,5)[:,-2:]\n",
    "y_val = to_categorical(y_val,5)[:,-2:]\n",
    "y_test = to_categorical(y_test,5)[:,-2:]"
   ]
  },
  {
   "cell_type": "markdown",
   "id": "f569e9a4",
   "metadata": {},
   "source": [
    "## Data augmentation"
   ]
  },
  {
   "cell_type": "code",
   "execution_count": 14,
   "id": "d7d1e347",
   "metadata": {
    "ExecuteTime": {
     "end_time": "2021-07-05T11:57:17.835791Z",
     "start_time": "2021-07-05T11:57:17.664094Z"
    }
   },
   "outputs": [],
   "source": [
    "augmenter = HairGenerator()"
   ]
  },
  {
   "cell_type": "code",
   "execution_count": 15,
   "id": "53a2e045",
   "metadata": {
    "ExecuteTime": {
     "end_time": "2021-07-05T11:57:23.905692Z",
     "start_time": "2021-07-05T11:57:23.761952Z"
    }
   },
   "outputs": [],
   "source": [
    "augmenter.datagen(X_train, y_train, batch_size=16, rotation_range=20, width_shift_range=0.1,\n",
    "                  height_shift_range=0.1, horizontal_flip=True, fill_mode='nearest',\n",
    "                  brightness_range=None)"
   ]
  },
  {
   "cell_type": "markdown",
   "id": "09b4ead9",
   "metadata": {},
   "source": [
    "## Model"
   ]
  },
  {
   "cell_type": "code",
   "execution_count": 20,
   "id": "9330d70d",
   "metadata": {
    "ExecuteTime": {
     "end_time": "2021-07-05T11:59:24.722333Z",
     "start_time": "2021-07-05T11:59:24.688048Z"
    }
   },
   "outputs": [],
   "source": [
    "def plot_history(history, title='', axs=None, exp_name=\"\"):\n",
    "    if axs is not None:\n",
    "        ax1, ax2 = axs\n",
    "    else:\n",
    "        f, (ax1, ax2) = plt.subplots(1, 2, figsize=(12, 4))\n",
    "    \n",
    "    if len(exp_name) > 0 and exp_name[0] != '_':\n",
    "        exp_name = '_' + exp_name\n",
    "    ax1.plot(history.history['loss'], label='train' + exp_name)\n",
    "    ax1.plot(history.history['val_loss'], label='val' + exp_name)\n",
    "    ax1.set_ylim(0., 1)\n",
    "    ax1.set_title('loss')\n",
    "    ax1.legend()\n",
    "\n",
    "    ax2.plot(history.history['accuracy'], label='train accuracy'  + exp_name)\n",
    "    ax2.plot(history.history['val_accuracy'], label='val accuracy'  + exp_name)\n",
    "    ax2.set_ylim(0.25, 1.)\n",
    "    ax2.set_title('Accuracy')\n",
    "    ax2.legend()\n",
    "    return (ax1, ax2)"
   ]
  },
  {
   "cell_type": "code",
   "execution_count": 54,
   "id": "4fa4d52c",
   "metadata": {
    "ExecuteTime": {
     "end_time": "2021-07-05T13:00:18.795855Z",
     "start_time": "2021-07-05T13:00:18.757217Z"
    }
   },
   "outputs": [],
   "source": [
    "def initialize_model():\n",
    "   \n",
    "    model  = models.Sequential()\n",
    "    \n",
    "    ### First convolution & max-pooling\n",
    "    model.add(layers.Conv2D(9, kernel_size=(4, 4), activation='relu', input_shape=(224, 224, 3), padding = \"same\"))\n",
    "    #model.add(layers.Dropout(rate=0.2))\n",
    "    \n",
    "    ### Second convolution\n",
    "    model.add(layers.Conv2D(9, kernel_size=(3, 3), activation='relu', padding = \"same\"))\n",
    "    model.add(layers.MaxPool2D(pool_size = (4,4)))    \n",
    "    #model.add(layers.Dropout(rate=0.2))\n",
    "    \n",
    "    ### Third convolution\n",
    "    model.add(layers.Conv2D(18, kernel_size=(3, 3), activation='relu', padding = \"same\"))  \n",
    "    #model.add(layers.Dropout(rate=0.2))\n",
    "    \n",
    "    ### Fourth convolution\n",
    "    model.add(layers.Conv2D(18, kernel_size=(3, 3), activation='relu', padding = \"same\"))\n",
    "    model.add(layers.MaxPool2D(pool_size = (4,4)))    \n",
    "    #model.add(layers.Dropout(rate=0.2))\n",
    "    \n",
    "    ### Flattening\n",
    "    model.add(layers.Flatten())\n",
    "    \n",
    "    ### One fully connected\n",
    "    model.add(layers.Dense(18, activation='relu')) \n",
    "    #model.add(layers.Dropout(rate=0.4))\n",
    "\n",
    "    ### Last layer\n",
    "    model.add(layers.Dense(2, activation='sigmoid')) \n",
    "\n",
    "    model.compile(loss='binary_crossentropy',\n",
    "            optimizer=optimizers.Adam(learning_rate = 0.001),\n",
    "            metrics=['accuracy'])\n",
    "    \n",
    "    return model"
   ]
  },
  {
   "cell_type": "code",
   "execution_count": 55,
   "id": "6a5851dd",
   "metadata": {
    "ExecuteTime": {
     "end_time": "2021-07-05T13:00:20.010040Z",
     "start_time": "2021-07-05T13:00:19.907385Z"
    }
   },
   "outputs": [
    {
     "name": "stdout",
     "output_type": "stream",
     "text": [
      "Model: \"sequential_7\"\n",
      "_________________________________________________________________\n",
      "Layer (type)                 Output Shape              Param #   \n",
      "=================================================================\n",
      "conv2d_30 (Conv2D)           (None, 224, 224, 9)       441       \n",
      "_________________________________________________________________\n",
      "conv2d_31 (Conv2D)           (None, 224, 224, 9)       738       \n",
      "_________________________________________________________________\n",
      "max_pooling2d_14 (MaxPooling (None, 56, 56, 9)         0         \n",
      "_________________________________________________________________\n",
      "conv2d_32 (Conv2D)           (None, 56, 56, 18)        1476      \n",
      "_________________________________________________________________\n",
      "conv2d_33 (Conv2D)           (None, 56, 56, 18)        2934      \n",
      "_________________________________________________________________\n",
      "max_pooling2d_15 (MaxPooling (None, 14, 14, 18)        0         \n",
      "_________________________________________________________________\n",
      "flatten_7 (Flatten)          (None, 3528)              0         \n",
      "_________________________________________________________________\n",
      "dense_14 (Dense)             (None, 18)                63522     \n",
      "_________________________________________________________________\n",
      "dense_15 (Dense)             (None, 2)                 38        \n",
      "=================================================================\n",
      "Total params: 69,149\n",
      "Trainable params: 69,149\n",
      "Non-trainable params: 0\n",
      "_________________________________________________________________\n"
     ]
    }
   ],
   "source": [
    "model = initialize_model()\n",
    "model.summary()"
   ]
  },
  {
   "cell_type": "code",
   "execution_count": 56,
   "id": "858efec1",
   "metadata": {
    "ExecuteTime": {
     "end_time": "2021-07-05T13:00:21.642658Z",
     "start_time": "2021-07-05T13:00:21.598295Z"
    }
   },
   "outputs": [],
   "source": [
    "# learning rate schedule\n",
    "def step_decay(epoch, lr):\n",
    "    decay = 0.5\n",
    "    lr *= (1. / (1. + decay * epoch))\n",
    "    return lr"
   ]
  },
  {
   "cell_type": "code",
   "execution_count": 57,
   "id": "f8cbea9c",
   "metadata": {
    "ExecuteTime": {
     "end_time": "2021-07-05T13:04:53.518156Z",
     "start_time": "2021-07-05T13:00:22.601085Z"
    }
   },
   "outputs": [
    {
     "name": "stdout",
     "output_type": "stream",
     "text": [
      "Epoch 1/200\n",
      "17/17 [==============================] - 6s 350ms/step - loss: 0.6989 - accuracy: 0.4542 - val_loss: 0.6900 - val_accuracy: 0.5909\n",
      "Epoch 2/200\n",
      "17/17 [==============================] - 6s 348ms/step - loss: 0.6908 - accuracy: 0.5382 - val_loss: 0.6854 - val_accuracy: 0.6667\n",
      "Epoch 3/200\n",
      "17/17 [==============================] - 7s 425ms/step - loss: 0.6877 - accuracy: 0.5534 - val_loss: 0.6751 - val_accuracy: 0.7273\n",
      "Epoch 4/200\n",
      "17/17 [==============================] - 7s 375ms/step - loss: 0.6781 - accuracy: 0.6107 - val_loss: 0.6668 - val_accuracy: 0.6515\n",
      "Epoch 5/200\n",
      "17/17 [==============================] - 7s 391ms/step - loss: 0.6658 - accuracy: 0.6221 - val_loss: 0.6344 - val_accuracy: 0.6818\n",
      "Epoch 6/200\n",
      "17/17 [==============================] - 7s 387ms/step - loss: 0.6651 - accuracy: 0.6298 - val_loss: 0.6192 - val_accuracy: 0.6364\n",
      "Epoch 7/200\n",
      "17/17 [==============================] - 7s 388ms/step - loss: 0.6423 - accuracy: 0.6450 - val_loss: 0.6183 - val_accuracy: 0.7576\n",
      "Epoch 8/200\n",
      "17/17 [==============================] - 7s 386ms/step - loss: 0.6203 - accuracy: 0.6565 - val_loss: 0.6246 - val_accuracy: 0.6970\n",
      "Epoch 9/200\n",
      "17/17 [==============================] - 7s 391ms/step - loss: 0.6591 - accuracy: 0.6260 - val_loss: 0.6166 - val_accuracy: 0.7121\n",
      "Epoch 10/200\n",
      "17/17 [==============================] - 7s 391ms/step - loss: 0.6076 - accuracy: 0.6947 - val_loss: 0.6205 - val_accuracy: 0.7121\n",
      "Epoch 11/200\n",
      "17/17 [==============================] - 7s 402ms/step - loss: 0.6406 - accuracy: 0.6641 - val_loss: 0.6104 - val_accuracy: 0.7273\n",
      "Epoch 12/200\n",
      "17/17 [==============================] - 8s 455ms/step - loss: 0.6161 - accuracy: 0.6870 - val_loss: 0.6132 - val_accuracy: 0.7121\n",
      "Epoch 13/200\n",
      "17/17 [==============================] - 8s 480ms/step - loss: 0.5923 - accuracy: 0.7061 - val_loss: 0.6219 - val_accuracy: 0.6818\n",
      "Epoch 14/200\n",
      "17/17 [==============================] - 8s 454ms/step - loss: 0.5986 - accuracy: 0.6947 - val_loss: 0.6199 - val_accuracy: 0.7121\n",
      "Epoch 15/200\n",
      "17/17 [==============================] - 7s 415ms/step - loss: 0.5854 - accuracy: 0.6832 - val_loss: 0.6384 - val_accuracy: 0.7121\n",
      "Epoch 16/200\n",
      "17/17 [==============================] - 7s 387ms/step - loss: 0.6206 - accuracy: 0.6870 - val_loss: 0.6125 - val_accuracy: 0.7273\n",
      "Epoch 17/200\n",
      "17/17 [==============================] - 7s 390ms/step - loss: 0.5975 - accuracy: 0.6985 - val_loss: 0.6040 - val_accuracy: 0.6970\n",
      "Epoch 18/200\n",
      "17/17 [==============================] - 7s 390ms/step - loss: 0.5812 - accuracy: 0.7061 - val_loss: 0.5975 - val_accuracy: 0.7121\n",
      "Epoch 19/200\n",
      "17/17 [==============================] - 7s 386ms/step - loss: 0.5780 - accuracy: 0.7099 - val_loss: 0.5934 - val_accuracy: 0.7727\n",
      "Epoch 20/200\n",
      "17/17 [==============================] - 7s 389ms/step - loss: 0.5733 - accuracy: 0.7137 - val_loss: 0.6234 - val_accuracy: 0.6818\n",
      "Epoch 21/200\n",
      "17/17 [==============================] - 7s 405ms/step - loss: 0.6022 - accuracy: 0.6794 - val_loss: 0.5970 - val_accuracy: 0.7273\n",
      "Epoch 22/200\n",
      "17/17 [==============================] - 7s 394ms/step - loss: 0.5820 - accuracy: 0.7061 - val_loss: 0.5880 - val_accuracy: 0.7121\n",
      "Epoch 23/200\n",
      "17/17 [==============================] - 7s 389ms/step - loss: 0.5652 - accuracy: 0.7061 - val_loss: 0.5902 - val_accuracy: 0.7121\n",
      "Epoch 24/200\n",
      "17/17 [==============================] - 7s 394ms/step - loss: 0.5763 - accuracy: 0.7061 - val_loss: 0.6260 - val_accuracy: 0.6818\n",
      "Epoch 25/200\n",
      "17/17 [==============================] - 7s 397ms/step - loss: 0.5731 - accuracy: 0.7061 - val_loss: 0.6020 - val_accuracy: 0.7273\n",
      "Epoch 26/200\n",
      "17/17 [==============================] - 7s 394ms/step - loss: 0.5439 - accuracy: 0.7519 - val_loss: 0.6136 - val_accuracy: 0.7273\n",
      "Epoch 27/200\n",
      "17/17 [==============================] - 7s 408ms/step - loss: 0.5513 - accuracy: 0.7023 - val_loss: 0.6097 - val_accuracy: 0.7121\n",
      "Epoch 28/200\n",
      "17/17 [==============================] - 7s 393ms/step - loss: 0.5649 - accuracy: 0.7252 - val_loss: 0.5874 - val_accuracy: 0.7273\n",
      "Epoch 29/200\n",
      "17/17 [==============================] - 8s 488ms/step - loss: 0.5702 - accuracy: 0.7137 - val_loss: 0.6013 - val_accuracy: 0.7424\n",
      "Epoch 30/200\n",
      "17/17 [==============================] - 8s 444ms/step - loss: 0.5775 - accuracy: 0.7023 - val_loss: 0.5898 - val_accuracy: 0.7273\n",
      "Epoch 31/200\n",
      "17/17 [==============================] - 8s 451ms/step - loss: 0.5566 - accuracy: 0.7290 - val_loss: 0.6143 - val_accuracy: 0.7273\n",
      "Epoch 32/200\n",
      "17/17 [==============================] - 7s 417ms/step - loss: 0.5760 - accuracy: 0.6985 - val_loss: 0.5916 - val_accuracy: 0.7273\n",
      "Epoch 33/200\n",
      "17/17 [==============================] - 7s 422ms/step - loss: 0.5643 - accuracy: 0.7099 - val_loss: 0.5962 - val_accuracy: 0.7121\n",
      "Epoch 34/200\n",
      "17/17 [==============================] - 7s 442ms/step - loss: 0.5628 - accuracy: 0.7023 - val_loss: 0.6054 - val_accuracy: 0.7424\n",
      "Epoch 35/200\n",
      "17/17 [==============================] - 7s 416ms/step - loss: 0.5300 - accuracy: 0.7519 - val_loss: 0.6075 - val_accuracy: 0.7424\n",
      "Epoch 36/200\n",
      "17/17 [==============================] - 7s 420ms/step - loss: 0.5345 - accuracy: 0.7176 - val_loss: 0.6630 - val_accuracy: 0.6818\n",
      "Epoch 37/200\n",
      "17/17 [==============================] - 9s 528ms/step - loss: 0.5799 - accuracy: 0.7252 - val_loss: 0.5925 - val_accuracy: 0.7273\n",
      "Epoch 38/200\n",
      "17/17 [==============================] - 7s 412ms/step - loss: 0.5500 - accuracy: 0.7252 - val_loss: 0.6251 - val_accuracy: 0.6970\n"
     ]
    }
   ],
   "source": [
    "es = EarlyStopping(patience=10, restore_best_weights=True, monitor = \"val_loss\")\n",
    "lrate = LearningRateScheduler(step_decay)\n",
    "callbacks_list = [es]\n",
    "train_flow = datagen.flow(X_train, y_train, batch_size=16)\n",
    "history = model.fit(train_flow, validation_data = (X_val, y_val),\n",
    "          epochs=200, batch_size=None, verbose=1, callbacks = callbacks_list)"
   ]
  },
  {
   "cell_type": "code",
   "execution_count": 58,
   "id": "228c35c2",
   "metadata": {
    "ExecuteTime": {
     "end_time": "2021-07-05T13:06:16.677352Z",
     "start_time": "2021-07-05T13:06:16.373906Z"
    }
   },
   "outputs": [
    {
     "data": {
      "text/plain": [
       "(<AxesSubplot:title={'center':'loss'}>,\n",
       " <AxesSubplot:title={'center':'Accuracy'}>)"
      ]
     },
     "execution_count": 58,
     "metadata": {},
     "output_type": "execute_result"
    },
    {
     "data": {
      "image/png": "[encoded data removed]",
      "text/plain": [
       "<Figure size 864x288 with 2 Axes>"
      ]
     },
     "metadata": {
      "needs_background": "light"
     },
     "output_type": "display_data"
    }
   ],
   "source": [
    "plot_history(history)"
   ]
  },
  {
   "cell_type": "code",
   "execution_count": 59,
   "id": "b4b3c027",
   "metadata": {
    "ExecuteTime": {
     "end_time": "2021-07-05T13:06:21.523715Z",
     "start_time": "2021-07-05T13:06:21.053934Z"
    }
   },
   "outputs": [
    {
     "name": "stdout",
     "output_type": "stream",
     "text": [
      "3/3 [==============================] - 0s 110ms/step - loss: 0.5108 - accuracy: 0.7317\n"
     ]
    },
    {
     "data": {
      "text/plain": [
       "[0.5108475089073181, 0.7317073345184326]"
      ]
     },
     "execution_count": 59,
     "metadata": {},
     "output_type": "execute_result"
    }
   ],
   "source": [
    "model.evaluate(X_test, y_test)"
   ]
  },
  {
   "cell_type": "code",
   "execution_count": null,
   "id": "2ebffb0d",
   "metadata": {},
   "outputs": [],
   "source": []
  }
 ],
 "metadata": {
  "kernelspec": {
   "display_name": "Python 3",
   "language": "python",
   "name": "python3"
  },
  "language_info": {
   "codemirror_mode": {
    "name": "ipython",
    "version": 3
   },
   "file_extension": ".py",
   "mimetype": "text/x-python",
   "name": "python",
   "nbconvert_exporter": "python",
   "pygments_lexer": "ipython3",
   "version": "3.8.6"
  },
  "toc": {
   "base_numbering": 1,
   "nav_menu": {},
   "number_sections": true,
   "sideBar": true,
   "skip_h1_title": false,
   "title_cell": "Table of Contents",
   "title_sidebar": "Contents",
   "toc_cell": false,
   "toc_position": {},
   "toc_section_display": true,
   "toc_window_display": false
  },
  "varInspector": {
   "cols": {
    "lenName": 16,
    "lenType": 16,
    "lenVar": 40
   },
   "kernels_config": {
    "python": {
     "delete_cmd_postfix": "",
     "delete_cmd_prefix": "del ",
     "library": "var_list.py",
     "varRefreshCmd": "print(var_dic_list())"
    },
    "r": {
     "delete_cmd_postfix": ") ",
     "delete_cmd_prefix": "rm(",
     "library": "var_list.r",
     "varRefreshCmd": "cat(var_dic_list()) "
    }
   },
   "types_to_exclude": [
    "module",
    "function",
    "builtin_function_or_method",
    "instance",
    "_Feature"
   ],
   "window_display": false
  }
 },
 "nbformat": 4,
 "nbformat_minor": 5
}
