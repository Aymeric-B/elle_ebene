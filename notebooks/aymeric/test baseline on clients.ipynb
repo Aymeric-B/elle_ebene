{
 "cells": [
  {
   "cell_type": "markdown",
   "id": "6ae7a888",
   "metadata": {
    "id": "6ae7a888"
   },
   "source": [
    "# Baseline model on clients files"
   ]
  },
  {
   "cell_type": "markdown",
   "id": "aa9d8565",
   "metadata": {
    "id": "aa9d8565"
   },
   "source": [
    "## Data"
   ]
  },
  {
   "cell_type": "code",
   "execution_count": 1,
   "id": "1ba9bd3a",
   "metadata": {
    "ExecuteTime": {
     "end_time": "2021-07-07T13:57:30.362787Z",
     "start_time": "2021-07-07T13:57:29.088793Z"
    },
    "executionInfo": {
     "elapsed": 2,
     "status": "ok",
     "timestamp": 1624976965682,
     "user": {
      "displayName": "aymeric boffa",
      "photoUrl": "",
      "userId": "10931096515323354217"
     },
     "user_tz": -120
    },
    "id": "1ba9bd3a"
   },
   "outputs": [],
   "source": [
    "from tensorflow.keras import layers\n",
    "from tensorflow.keras import models\n",
    "from tensorflow.keras import optimizers"
   ]
  },
  {
   "cell_type": "code",
   "execution_count": 2,
   "id": "9a606208",
   "metadata": {
    "ExecuteTime": {
     "end_time": "2021-07-07T13:57:30.887990Z",
     "start_time": "2021-07-07T13:57:30.879243Z"
    },
    "executionInfo": {
     "elapsed": 2,
     "status": "ok",
     "timestamp": 1624976967253,
     "user": {
      "displayName": "aymeric boffa",
      "photoUrl": "",
      "userId": "10931096515323354217"
     },
     "user_tz": -120
    },
    "id": "9a606208"
   },
   "outputs": [],
   "source": [
    "def initialize_model():\n",
    "   \n",
    "    model  = models.Sequential()\n",
    "    \n",
    "    ### First convolution & max-pooling\n",
    "    model.add(layers.Conv2D(64, kernel_size=(4, 4), activation='relu', input_shape=(500, 500, 3), padding = \"same\"))\n",
    "    model.add(layers.MaxPool2D(pool_size = (4,4)))\n",
    "    model.add(layers.Dropout(rate=0.2))\n",
    "    \n",
    "    ### Second convolution\n",
    "    model.add(layers.Conv2D(64, kernel_size=(3, 3), activation='relu', padding = \"same\"))\n",
    "    model.add(layers.MaxPool2D(pool_size = (4,4)))    \n",
    "    model.add(layers.Dropout(rate=0.2))\n",
    "    \n",
    "    ### Third convolution\n",
    "    model.add(layers.Conv2D(128, kernel_size=(3, 3), activation='relu', padding = \"same\"))\n",
    "    model.add(layers.MaxPool2D(pool_size = (4,4)))    \n",
    "    model.add(layers.Dropout(rate=0.4))\n",
    "    \n",
    "    ### Third convolution\n",
    "    model.add(layers.Conv2D(128, kernel_size=(3, 3), activation='relu', padding = \"same\"))\n",
    "    model.add(layers.MaxPool2D(pool_size = (2,2)))    \n",
    "    model.add(layers.Dropout(rate=0.4))\n",
    "\n",
    "    ### Flattening\n",
    "    model.add(layers.Flatten())\n",
    "    \n",
    "    ### One fully connected\n",
    "    model.add(layers.Dense(128, activation='relu')) \n",
    "    model.add(layers.Dropout(rate=0.5))\n",
    "\n",
    "    ### Last layer\n",
    "    model.add(layers.Dense(2, activation='sigmoid')) \n",
    "\n",
    "    model.compile(loss='binary_crossentropy',\n",
    "            optimizer=\"adam\",\n",
    "            metrics=['accuracy'])\n",
    "    \n",
    "    return model"
   ]
  },
  {
   "cell_type": "code",
   "execution_count": 3,
   "id": "b7912de3",
   "metadata": {
    "ExecuteTime": {
     "end_time": "2021-07-07T13:57:33.670881Z",
     "start_time": "2021-07-07T13:57:33.490508Z"
    },
    "colab": {
     "base_uri": "https://localhost:8080/"
    },
    "executionInfo": {
     "elapsed": 236,
     "status": "ok",
     "timestamp": 1624979882171,
     "user": {
      "displayName": "aymeric boffa",
      "photoUrl": "",
      "userId": "10931096515323354217"
     },
     "user_tz": -120
    },
    "id": "b7912de3",
    "outputId": "66e42c8d-4eac-458f-fc4d-25123d1b080c"
   },
   "outputs": [
    {
     "name": "stdout",
     "output_type": "stream",
     "text": [
      "Model: \"sequential\"\n",
      "_________________________________________________________________\n",
      "Layer (type)                 Output Shape              Param #   \n",
      "=================================================================\n",
      "conv2d (Conv2D)              (None, 500, 500, 64)      3136      \n",
      "_________________________________________________________________\n",
      "max_pooling2d (MaxPooling2D) (None, 125, 125, 64)      0         \n",
      "_________________________________________________________________\n",
      "dropout (Dropout)            (None, 125, 125, 64)      0         \n",
      "_________________________________________________________________\n",
      "conv2d_1 (Conv2D)            (None, 125, 125, 64)      36928     \n",
      "_________________________________________________________________\n",
      "max_pooling2d_1 (MaxPooling2 (None, 31, 31, 64)        0         \n",
      "_________________________________________________________________\n",
      "dropout_1 (Dropout)          (None, 31, 31, 64)        0         \n",
      "_________________________________________________________________\n",
      "conv2d_2 (Conv2D)            (None, 31, 31, 128)       73856     \n",
      "_________________________________________________________________\n",
      "max_pooling2d_2 (MaxPooling2 (None, 7, 7, 128)         0         \n",
      "_________________________________________________________________\n",
      "dropout_2 (Dropout)          (None, 7, 7, 128)         0         \n",
      "_________________________________________________________________\n",
      "conv2d_3 (Conv2D)            (None, 7, 7, 128)         147584    \n",
      "_________________________________________________________________\n",
      "max_pooling2d_3 (MaxPooling2 (None, 3, 3, 128)         0         \n",
      "_________________________________________________________________\n",
      "dropout_3 (Dropout)          (None, 3, 3, 128)         0         \n",
      "_________________________________________________________________\n",
      "flatten (Flatten)            (None, 1152)              0         \n",
      "_________________________________________________________________\n",
      "dense (Dense)                (None, 128)               147584    \n",
      "_________________________________________________________________\n",
      "dropout_4 (Dropout)          (None, 128)               0         \n",
      "_________________________________________________________________\n",
      "dense_1 (Dense)              (None, 2)                 258       \n",
      "=================================================================\n",
      "Total params: 409,346\n",
      "Trainable params: 409,346\n",
      "Non-trainable params: 0\n",
      "_________________________________________________________________\n"
     ]
    }
   ],
   "source": [
    "model = initialize_model()\n",
    "model.summary()"
   ]
  },
  {
   "cell_type": "code",
   "execution_count": 4,
   "id": "ed113847",
   "metadata": {
    "ExecuteTime": {
     "end_time": "2021-07-07T13:57:34.763760Z",
     "start_time": "2021-07-07T13:57:34.686874Z"
    }
   },
   "outputs": [
    {
     "data": {
      "text/plain": [
       "<tensorflow.python.training.tracking.util.CheckpointLoadStatus at 0x7f490c0c3e80>"
      ]
     },
     "execution_count": 4,
     "metadata": {},
     "output_type": "execute_result"
    }
   ],
   "source": [
    "model.load_weights(\"/home/aymeric/code/Aymeric-B/elle_ebene/model_weights/baseline/weights\")"
   ]
  },
  {
   "cell_type": "markdown",
   "id": "wgN6b0ix3C7t",
   "metadata": {
    "id": "wgN6b0ix3C7t"
   },
   "source": [
    "On teste avec les cheveux clientes"
   ]
  },
  {
   "cell_type": "code",
   "execution_count": 11,
   "id": "yLz76KdaXkzr",
   "metadata": {
    "ExecuteTime": {
     "end_time": "2021-07-07T13:58:13.528944Z",
     "start_time": "2021-07-07T13:58:13.525733Z"
    },
    "id": "yLz76KdaXkzr"
   },
   "outputs": [],
   "source": [
    "from PIL import ImageFile, Image\n",
    "ImageFile.LOAD_TRUNCATED_IMAGES = True"
   ]
  },
  {
   "cell_type": "code",
   "execution_count": 7,
   "id": "74d0f85a",
   "metadata": {
    "ExecuteTime": {
     "end_time": "2021-07-07T13:57:44.251280Z",
     "start_time": "2021-07-07T13:57:44.248042Z"
    }
   },
   "outputs": [],
   "source": [
    "import os"
   ]
  },
  {
   "cell_type": "code",
   "execution_count": 14,
   "id": "f059bb4b",
   "metadata": {
    "ExecuteTime": {
     "end_time": "2021-07-07T14:00:05.565131Z",
     "start_time": "2021-07-07T14:00:05.560599Z"
    }
   },
   "outputs": [],
   "source": [
    "from elle_ebene.utils.simple_preprocessing import get_images, to_numpy_rgb, squared_imgs, resize_img"
   ]
  },
  {
   "cell_type": "code",
   "execution_count": 23,
   "id": "23f62940",
   "metadata": {
    "ExecuteTime": {
     "end_time": "2021-07-07T14:04:56.986572Z",
     "start_time": "2021-07-07T14:04:17.868718Z"
    }
   },
   "outputs": [],
   "source": [
    "images = []\n",
    "for path, subdirs, files in os.walk(\"/home/aymeric/code/Aymeric-B/elle_ebene/raw_data/Clientes\"):\n",
    "    for name in files:\n",
    "        images.append(resize_img(Image.open(os.path.join(path, name)),500))\n",
    "images = to_numpy_rgb(images)\n",
    "images = squared_imgs(images)\n",
    "client_hairs = np.asarray(images)"
   ]
  },
  {
   "cell_type": "code",
   "execution_count": 24,
   "id": "7669040a",
   "metadata": {
    "ExecuteTime": {
     "end_time": "2021-07-07T14:04:57.258219Z",
     "start_time": "2021-07-07T14:04:57.254933Z"
    }
   },
   "outputs": [],
   "source": [
    "from tensorflow.keras.utils import to_categorical"
   ]
  },
  {
   "cell_type": "code",
   "execution_count": 25,
   "id": "2695245a",
   "metadata": {
    "ExecuteTime": {
     "end_time": "2021-07-07T14:06:16.254119Z",
     "start_time": "2021-07-07T14:04:57.660124Z"
    }
   },
   "outputs": [],
   "source": [
    "labels = np.full((len(images),),4)\n",
    "labels = to_categorical(labels,5)[:,-2:]\n",
    "\n",
    "client_hairs = client_hairs/255"
   ]
  },
  {
   "cell_type": "code",
   "execution_count": 26,
   "id": "13e798d4",
   "metadata": {
    "ExecuteTime": {
     "end_time": "2021-07-07T14:09:49.515283Z",
     "start_time": "2021-07-07T14:06:16.558017Z"
    }
   },
   "outputs": [
    {
     "ename": "ValueError",
     "evalue": "Creating variables on a non-first call to a function decorated with tf.function.",
     "output_type": "error",
     "traceback": [
      "\u001b[0;31m---------------------------------------------------------------------------\u001b[0m",
      "\u001b[0;31mValueError\u001b[0m                                Traceback (most recent call last)",
      "\u001b[0;32m<ipython-input-26-8e99d89b536e>\u001b[0m in \u001b[0;36m<module>\u001b[0;34m\u001b[0m\n\u001b[0;32m----> 1\u001b[0;31m \u001b[0mmodel\u001b[0m\u001b[0;34m.\u001b[0m\u001b[0mevaluate\u001b[0m\u001b[0;34m(\u001b[0m\u001b[0mclient_hairs\u001b[0m\u001b[0;34m,\u001b[0m \u001b[0mlabels\u001b[0m\u001b[0;34m)\u001b[0m\u001b[0;34m\u001b[0m\u001b[0;34m\u001b[0m\u001b[0m\n\u001b[0m",
      "\u001b[0;32m~/.pyenv/versions/3.8.6/envs/elle_ebene/lib/python3.8/site-packages/tensorflow/python/keras/engine/training.py\u001b[0m in \u001b[0;36mevaluate\u001b[0;34m(self, x, y, batch_size, verbose, sample_weight, steps, callbacks, max_queue_size, workers, use_multiprocessing, return_dict, **kwargs)\u001b[0m\n\u001b[1;32m   1487\u001b[0m             \u001b[0;32mwith\u001b[0m \u001b[0mtrace\u001b[0m\u001b[0;34m.\u001b[0m\u001b[0mTrace\u001b[0m\u001b[0;34m(\u001b[0m\u001b[0;34m'test'\u001b[0m\u001b[0;34m,\u001b[0m \u001b[0mstep_num\u001b[0m\u001b[0;34m=\u001b[0m\u001b[0mstep\u001b[0m\u001b[0;34m,\u001b[0m \u001b[0m_r\u001b[0m\u001b[0;34m=\u001b[0m\u001b[0;36m1\u001b[0m\u001b[0;34m)\u001b[0m\u001b[0;34m:\u001b[0m\u001b[0;34m\u001b[0m\u001b[0;34m\u001b[0m\u001b[0m\n\u001b[1;32m   1488\u001b[0m               \u001b[0mcallbacks\u001b[0m\u001b[0;34m.\u001b[0m\u001b[0mon_test_batch_begin\u001b[0m\u001b[0;34m(\u001b[0m\u001b[0mstep\u001b[0m\u001b[0;34m)\u001b[0m\u001b[0;34m\u001b[0m\u001b[0;34m\u001b[0m\u001b[0m\n\u001b[0;32m-> 1489\u001b[0;31m               \u001b[0mtmp_logs\u001b[0m \u001b[0;34m=\u001b[0m \u001b[0mself\u001b[0m\u001b[0;34m.\u001b[0m\u001b[0mtest_function\u001b[0m\u001b[0;34m(\u001b[0m\u001b[0miterator\u001b[0m\u001b[0;34m)\u001b[0m\u001b[0;34m\u001b[0m\u001b[0;34m\u001b[0m\u001b[0m\n\u001b[0m\u001b[1;32m   1490\u001b[0m               \u001b[0;32mif\u001b[0m \u001b[0mdata_handler\u001b[0m\u001b[0;34m.\u001b[0m\u001b[0mshould_sync\u001b[0m\u001b[0;34m:\u001b[0m\u001b[0;34m\u001b[0m\u001b[0;34m\u001b[0m\u001b[0m\n\u001b[1;32m   1491\u001b[0m                 \u001b[0mcontext\u001b[0m\u001b[0;34m.\u001b[0m\u001b[0masync_wait\u001b[0m\u001b[0;34m(\u001b[0m\u001b[0;34m)\u001b[0m\u001b[0;34m\u001b[0m\u001b[0;34m\u001b[0m\u001b[0m\n",
      "\u001b[0;32m~/.pyenv/versions/3.8.6/envs/elle_ebene/lib/python3.8/site-packages/tensorflow/python/eager/def_function.py\u001b[0m in \u001b[0;36m__call__\u001b[0;34m(self, *args, **kwds)\u001b[0m\n\u001b[1;32m    887\u001b[0m \u001b[0;34m\u001b[0m\u001b[0m\n\u001b[1;32m    888\u001b[0m       \u001b[0;32mwith\u001b[0m \u001b[0mOptionalXlaContext\u001b[0m\u001b[0;34m(\u001b[0m\u001b[0mself\u001b[0m\u001b[0;34m.\u001b[0m\u001b[0m_jit_compile\u001b[0m\u001b[0;34m)\u001b[0m\u001b[0;34m:\u001b[0m\u001b[0;34m\u001b[0m\u001b[0;34m\u001b[0m\u001b[0m\n\u001b[0;32m--> 889\u001b[0;31m         \u001b[0mresult\u001b[0m \u001b[0;34m=\u001b[0m \u001b[0mself\u001b[0m\u001b[0;34m.\u001b[0m\u001b[0m_call\u001b[0m\u001b[0;34m(\u001b[0m\u001b[0;34m*\u001b[0m\u001b[0margs\u001b[0m\u001b[0;34m,\u001b[0m \u001b[0;34m**\u001b[0m\u001b[0mkwds\u001b[0m\u001b[0;34m)\u001b[0m\u001b[0;34m\u001b[0m\u001b[0;34m\u001b[0m\u001b[0m\n\u001b[0m\u001b[1;32m    890\u001b[0m \u001b[0;34m\u001b[0m\u001b[0m\n\u001b[1;32m    891\u001b[0m       \u001b[0mnew_tracing_count\u001b[0m \u001b[0;34m=\u001b[0m \u001b[0mself\u001b[0m\u001b[0;34m.\u001b[0m\u001b[0mexperimental_get_tracing_count\u001b[0m\u001b[0;34m(\u001b[0m\u001b[0;34m)\u001b[0m\u001b[0;34m\u001b[0m\u001b[0;34m\u001b[0m\u001b[0m\n",
      "\u001b[0;32m~/.pyenv/versions/3.8.6/envs/elle_ebene/lib/python3.8/site-packages/tensorflow/python/eager/def_function.py\u001b[0m in \u001b[0;36m_call\u001b[0;34m(self, *args, **kwds)\u001b[0m\n\u001b[1;32m    924\u001b[0m       \u001b[0mresults\u001b[0m \u001b[0;34m=\u001b[0m \u001b[0mself\u001b[0m\u001b[0;34m.\u001b[0m\u001b[0m_stateful_fn\u001b[0m\u001b[0;34m(\u001b[0m\u001b[0;34m*\u001b[0m\u001b[0margs\u001b[0m\u001b[0;34m,\u001b[0m \u001b[0;34m**\u001b[0m\u001b[0mkwds\u001b[0m\u001b[0;34m)\u001b[0m\u001b[0;34m\u001b[0m\u001b[0;34m\u001b[0m\u001b[0m\n\u001b[1;32m    925\u001b[0m       \u001b[0;32mif\u001b[0m \u001b[0mself\u001b[0m\u001b[0;34m.\u001b[0m\u001b[0m_created_variables\u001b[0m\u001b[0;34m:\u001b[0m\u001b[0;34m\u001b[0m\u001b[0;34m\u001b[0m\u001b[0m\n\u001b[0;32m--> 926\u001b[0;31m         raise ValueError(\"Creating variables on a non-first call to a function\"\n\u001b[0m\u001b[1;32m    927\u001b[0m                          \" decorated with tf.function.\")\n\u001b[1;32m    928\u001b[0m       \u001b[0;32mreturn\u001b[0m \u001b[0mresults\u001b[0m\u001b[0;34m\u001b[0m\u001b[0;34m\u001b[0m\u001b[0m\n",
      "\u001b[0;31mValueError\u001b[0m: Creating variables on a non-first call to a function decorated with tf.function."
     ]
    }
   ],
   "source": [
    "model.evaluate(client_hairs, labels)"
   ]
  },
  {
   "cell_type": "code",
   "execution_count": null,
   "id": "d668b158",
   "metadata": {},
   "outputs": [],
   "source": []
  }
 ],
 "metadata": {
  "accelerator": "GPU",
  "colab": {
   "collapsed_sections": [],
   "name": "Baseline model.ipynb",
   "provenance": []
  },
  "kernelspec": {
   "display_name": "Python 3",
   "language": "python",
   "name": "python3"
  },
  "language_info": {
   "codemirror_mode": {
    "name": "ipython",
    "version": 3
   },
   "file_extension": ".py",
   "mimetype": "text/x-python",
   "name": "python",
   "nbconvert_exporter": "python",
   "pygments_lexer": "ipython3",
   "version": "3.8.6"
  },
  "toc": {
   "base_numbering": 1,
   "nav_menu": {},
   "number_sections": true,
   "sideBar": true,
   "skip_h1_title": false,
   "title_cell": "Table of Contents",
   "title_sidebar": "Contents",
   "toc_cell": false,
   "toc_position": {},
   "toc_section_display": true,
   "toc_window_display": false
  },
  "varInspector": {
   "cols": {
    "lenName": 16,
    "lenType": 16,
    "lenVar": 40
   },
   "kernels_config": {
    "python": {
     "delete_cmd_postfix": "",
     "delete_cmd_prefix": "del ",
     "library": "var_list.py",
     "varRefreshCmd": "print(var_dic_list())"
    },
    "r": {
     "delete_cmd_postfix": ") ",
     "delete_cmd_prefix": "rm(",
     "library": "var_list.r",
     "varRefreshCmd": "cat(var_dic_list()) "
    }
   },
   "types_to_exclude": [
    "module",
    "function",
    "builtin_function_or_method",
    "instance",
    "_Feature"
   ],
   "window_display": false
  }
 },
 "nbformat": 4,
 "nbformat_minor": 5
}
