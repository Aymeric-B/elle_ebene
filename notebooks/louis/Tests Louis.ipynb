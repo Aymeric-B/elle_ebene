{
 "cells": [
  {
   "cell_type": "code",
   "execution_count": 1,
   "id": "4ccc8f91",
   "metadata": {
    "ExecuteTime": {
     "end_time": "2021-07-05T06:43:34.153010Z",
     "start_time": "2021-07-05T06:43:34.144800Z"
    }
   },
   "outputs": [],
   "source": [
    "import os"
   ]
  },
  {
   "cell_type": "markdown",
   "id": "72b4fb0d",
   "metadata": {},
   "source": [
    "Fonction de comptage d'un répertoire"
   ]
  },
  {
   "cell_type": "code",
   "execution_count": 2,
   "id": "00f35caa",
   "metadata": {
    "ExecuteTime": {
     "end_time": "2021-07-05T06:43:34.195140Z",
     "start_time": "2021-07-05T06:43:34.188679Z"
    }
   },
   "outputs": [],
   "source": [
    "home_path = r'/Users/louispro/code/Aymeric-B/elle_ebene/raw_data'\n",
    "def count_folder(folder):\n",
    "    path = os.path.join(home_path, folder)\n",
    "    files = os.listdir(path)\n",
    "    return [f'Nombre de fichiers dans {folder} : {len(files)}', len(files)]"
   ]
  },
  {
   "cell_type": "code",
   "execution_count": 3,
   "id": "7583d4c9",
   "metadata": {
    "ExecuteTime": {
     "end_time": "2021-07-05T06:43:34.225433Z",
     "start_time": "2021-07-05T06:43:34.202635Z"
    }
   },
   "outputs": [
    {
     "data": {
      "text/plain": [
       "['Nombre de fichiers dans Type 3 : 209', 209]"
      ]
     },
     "execution_count": 3,
     "metadata": {},
     "output_type": "execute_result"
    }
   ],
   "source": [
    "count_folder(\"Type 3\")"
   ]
  },
  {
   "cell_type": "code",
   "execution_count": 4,
   "id": "d60c0e69",
   "metadata": {
    "ExecuteTime": {
     "end_time": "2021-07-05T06:43:34.240912Z",
     "start_time": "2021-07-05T06:43:34.229685Z"
    }
   },
   "outputs": [
    {
     "name": "stdout",
     "output_type": "stream",
     "text": [
      "[\"Nombre de fichiers dans <DirEntry 'Type 3'> : 209\", 209]\n",
      "[\"Nombre de fichiers dans <DirEntry 'type 4'> : 3\", 3]\n"
     ]
    }
   ],
   "source": [
    "with os.scandir(home_path) as it:\n",
    "    for entry in it:\n",
    "        if not entry.name.startswith('.') and not entry.is_file():\n",
    "            print(count_folder(entry))"
   ]
  },
  {
   "cell_type": "code",
   "execution_count": 5,
   "id": "7e0e37a2",
   "metadata": {
    "ExecuteTime": {
     "end_time": "2021-07-05T06:43:34.269362Z",
     "start_time": "2021-07-05T06:43:34.245069Z"
    }
   },
   "outputs": [
    {
     "name": "stdout",
     "output_type": "stream",
     "text": [
      "Nombre de fichiers dans /Users/louispro/code/Aymeric-B/elle_ebene/raw_data/Type 3 : 209\n",
      "Nombre de fichiers dans /Users/louispro/code/Aymeric-B/elle_ebene/raw_data/type 4/Secs : 27\n",
      "Nombre de fichiers dans /Users/louispro/code/Aymeric-B/elle_ebene/raw_data/type 4/Hydratés : 203\n",
      "Nombre total de fichiers dans /Users/louispro/code/Aymeric-B/elle_ebene/raw_data : 439\n"
     ]
    }
   ],
   "source": [
    "total_files = 0\n",
    "for root, dirs, files in os.walk(home_path):\n",
    "    if len(dirs) == 0:\n",
    "        print(count_folder(root)[0])\n",
    "        total_files += count_folder(root)[1]\n",
    "print(f'Nombre total de fichiers dans {home_path} : {total_files}')\n",
    "        "
   ]
  },
  {
   "cell_type": "code",
   "execution_count": 6,
   "id": "5d104a29",
   "metadata": {
    "ExecuteTime": {
     "end_time": "2021-07-05T06:43:34.300841Z",
     "start_time": "2021-07-05T06:43:34.280646Z"
    }
   },
   "outputs": [
    {
     "name": "stdout",
     "output_type": "stream",
     "text": [
      "439\n"
     ]
    }
   ],
   "source": [
    "home_path = r'/Users/louispro/code/Aymeric-B/elle_ebene/raw_data'\n",
    "def count_folder(folder):\n",
    "    path = os.path.join(home_path, folder)\n",
    "    files = os.listdir(path)\n",
    "    return len(files)\n",
    "total_files = 0\n",
    "for root, dirs, files in os.walk(home_path):\n",
    "    if len(dirs) == 0 and not os.path.splitext(root)[1].startswith('.'):\n",
    "        total_files += count_folder(root)\n",
    "print(total_files)"
   ]
  },
  {
   "cell_type": "code",
   "execution_count": null,
   "id": "fd011334",
   "metadata": {},
   "outputs": [],
   "source": []
  }
 ],
 "metadata": {
  "kernelspec": {
   "display_name": "Python 3",
   "language": "python",
   "name": "python3"
  },
  "language_info": {
   "codemirror_mode": {
    "name": "ipython",
    "version": 3
   },
   "file_extension": ".py",
   "mimetype": "text/x-python",
   "name": "python",
   "nbconvert_exporter": "python",
   "pygments_lexer": "ipython3",
   "version": "3.8.6"
  },
  "toc": {
   "base_numbering": 1,
   "nav_menu": {},
   "number_sections": true,
   "sideBar": true,
   "skip_h1_title": false,
   "title_cell": "Table of Contents",
   "title_sidebar": "Contents",
   "toc_cell": false,
   "toc_position": {},
   "toc_section_display": true,
   "toc_window_display": false
  },
  "varInspector": {
   "cols": {
    "lenName": 16,
    "lenType": 16,
    "lenVar": 40
   },
   "kernels_config": {
    "python": {
     "delete_cmd_postfix": "",
     "delete_cmd_prefix": "del ",
     "library": "var_list.py",
     "varRefreshCmd": "print(var_dic_list())"
    },
    "r": {
     "delete_cmd_postfix": ") ",
     "delete_cmd_prefix": "rm(",
     "library": "var_list.r",
     "varRefreshCmd": "cat(var_dic_list()) "
    }
   },
   "types_to_exclude": [
    "module",
    "function",
    "builtin_function_or_method",
    "instance",
    "_Feature"
   ],
   "window_display": false
  }
 },
 "nbformat": 4,
 "nbformat_minor": 5
}
