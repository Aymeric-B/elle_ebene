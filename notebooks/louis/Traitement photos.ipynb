{
 "cells": [
  {
   "cell_type": "code",
   "execution_count": 13,
   "id": "0bfa71fb",
   "metadata": {
    "ExecuteTime": {
     "end_time": "2021-07-06T07:20:09.229107Z",
     "start_time": "2021-07-06T07:20:09.213757Z"
    }
   },
   "outputs": [
    {
     "name": "stdout",
     "output_type": "stream",
     "text": [
      "6\n",
      "4032\n",
      "3024\n"
     ]
    }
   ],
   "source": [
    "import PIL.Image\n",
    "img = PIL.Image.open('/Users/louispro/downloads/img_4103.jpeg')\n",
    "exif_data = img._getexif()\n",
    "import PIL.ExifTags\n",
    "exif = {\n",
    "    PIL.ExifTags.TAGS[k]: v\n",
    "    for k, v in img._getexif().items()\n",
    "    if k in PIL.ExifTags.TAGS\n",
    "}\n",
    "print(exif['Orientation'])\n",
    "print(exif['ExifImageWidth'])\n",
    "print(exif['ExifImageHeight'])"
   ]
  },
  {
   "cell_type": "code",
   "execution_count": 15,
   "id": "ce39c114",
   "metadata": {
    "ExecuteTime": {
     "end_time": "2021-07-06T07:20:45.498258Z",
     "start_time": "2021-07-06T07:20:45.490096Z"
    }
   },
   "outputs": [
    {
     "data": {
      "text/plain": [
       "<PIL.Image.Exif at 0x11fba5730>"
      ]
     },
     "execution_count": 15,
     "metadata": {},
     "output_type": "execute_result"
    }
   ],
   "source": [
    "img.getexif()"
   ]
  },
  {
   "cell_type": "code",
   "execution_count": 22,
   "id": "e8844c3b",
   "metadata": {
    "ExecuteTime": {
     "end_time": "2021-07-06T07:27:32.031555Z",
     "start_time": "2021-07-06T07:27:32.020998Z"
    }
   },
   "outputs": [
    {
     "name": "stdout",
     "output_type": "stream",
     "text": [
      "{}\n"
     ]
    }
   ],
   "source": [
    "import PIL.Image\n",
    "img = PIL.Image.open('/Users/louispro/downloads/20210705_174612.jpg')\n",
    "exif_data = img._getexif()\n",
    "import PIL.ExifTags\n",
    "exif = {\n",
    "    PIL.ExifTags.TAGS[k]: v\n",
    "    for k, v in img.getexif().items()\n",
    "    if k in PIL.ExifTags.TAGS\n",
    "}\n",
    "print(exif)"
   ]
  },
  {
   "cell_type": "code",
   "execution_count": null,
   "id": "164b2121",
   "metadata": {},
   "outputs": [],
   "source": []
  }
 ],
 "metadata": {
  "kernelspec": {
   "display_name": "Python 3",
   "language": "python",
   "name": "python3"
  },
  "language_info": {
   "codemirror_mode": {
    "name": "ipython",
    "version": 3
   },
   "file_extension": ".py",
   "mimetype": "text/x-python",
   "name": "python",
   "nbconvert_exporter": "python",
   "pygments_lexer": "ipython3",
   "version": "3.8.6"
  },
  "toc": {
   "base_numbering": 1,
   "nav_menu": {},
   "number_sections": true,
   "sideBar": true,
   "skip_h1_title": false,
   "title_cell": "Table of Contents",
   "title_sidebar": "Contents",
   "toc_cell": false,
   "toc_position": {},
   "toc_section_display": true,
   "toc_window_display": false
  },
  "varInspector": {
   "cols": {
    "lenName": 16,
    "lenType": 16,
    "lenVar": 40
   },
   "kernels_config": {
    "python": {
     "delete_cmd_postfix": "",
     "delete_cmd_prefix": "del ",
     "library": "var_list.py",
     "varRefreshCmd": "print(var_dic_list())"
    },
    "r": {
     "delete_cmd_postfix": ") ",
     "delete_cmd_prefix": "rm(",
     "library": "var_list.r",
     "varRefreshCmd": "cat(var_dic_list()) "
    }
   },
   "types_to_exclude": [
    "module",
    "function",
    "builtin_function_or_method",
    "instance",
    "_Feature"
   ],
   "window_display": false
  }
 },
 "nbformat": 4,
 "nbformat_minor": 5
}
