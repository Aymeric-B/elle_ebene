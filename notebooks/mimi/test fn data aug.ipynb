{
 "cells": [
  {
   "cell_type": "markdown",
   "id": "519d1ebf",
   "metadata": {},
   "source": [
    "# Testing the python code "
   ]
  },
  {
   "cell_type": "code",
   "execution_count": 1,
   "id": "1d1bca0c",
   "metadata": {
    "ExecuteTime": {
     "end_time": "2021-07-05T07:48:50.925787Z",
     "start_time": "2021-07-05T07:48:50.865364Z"
    }
   },
   "outputs": [],
   "source": [
    "%load_ext autoreload\n",
    "%autoreload 2"
   ]
  },
  {
   "cell_type": "code",
   "execution_count": 11,
   "id": "547f6b46",
   "metadata": {
    "ExecuteTime": {
     "end_time": "2021-07-05T08:05:55.342937Z",
     "start_time": "2021-07-05T08:05:55.194323Z"
    }
   },
   "outputs": [],
   "source": [
    "import matplotlib.pyplot as plt\n",
    "import numpy as np\n",
    "import pandas as pd\n",
    "import os\n",
    "import shutil"
   ]
  },
  {
   "cell_type": "code",
   "execution_count": 6,
   "id": "8f17785d",
   "metadata": {
    "ExecuteTime": {
     "end_time": "2021-07-05T07:57:00.801334Z",
     "start_time": "2021-07-05T07:57:00.708469Z"
    }
   },
   "outputs": [],
   "source": [
    "from PIL import Image\n",
    "from elle_ebene.utils.simple_preprocessing import to_numpy_rgb\n",
    "from elle_ebene.utils.simple_preprocessing import squared_imgs\n",
    "from elle_ebene.dataug import data_gen\n",
    "from elle_ebene.utils.simple_preprocessing import get_images"
   ]
  },
  {
   "cell_type": "code",
   "execution_count": 7,
   "id": "9e35fb60",
   "metadata": {
    "ExecuteTime": {
     "end_time": "2021-07-05T07:57:01.896383Z",
     "start_time": "2021-07-05T07:57:01.785409Z"
    }
   },
   "outputs": [],
   "source": [
    "import splitfolders"
   ]
  },
  {
   "cell_type": "markdown",
   "id": "363cc97e",
   "metadata": {
    "ExecuteTime": {
     "end_time": "2021-07-01T15:39:05.606165Z",
     "start_time": "2021-07-01T15:39:05.534361Z"
    }
   },
   "source": [
    "<font size=\"5\">Preprocessing</font>"
   ]
  },
  {
   "cell_type": "code",
   "execution_count": 8,
   "id": "2c2aa704",
   "metadata": {
    "ExecuteTime": {
     "end_time": "2021-07-05T07:57:02.260941Z",
     "start_time": "2021-07-05T07:57:02.194611Z"
    }
   },
   "outputs": [],
   "source": [
    "home_path = r'/Users/Mygenety/code/Aymeric-B/elle_ebene/raw_data/Data'\n",
    "data_gen_path = r'/Users/Mygenety/code/Aymeric-B/elle_ebene/raw_data/Data_aug'"
   ]
  },
  {
   "cell_type": "code",
   "execution_count": 9,
   "id": "822571a1",
   "metadata": {
    "ExecuteTime": {
     "end_time": "2021-07-05T07:57:17.690821Z",
     "start_time": "2021-07-05T07:57:02.644203Z"
    }
   },
   "outputs": [],
   "source": [
    "\n",
    "# Preprocessing image \n",
    "type3_imgs = get_images(\"Type 3\", path=home_path)\n",
    "type4_imgs = get_images(\"Type 4\", path=home_path)\n",
    "\n",
    "type3_imgs_rgb = to_numpy_rgb(type3_imgs)\n",
    "type4_imgs_rgb = to_numpy_rgb(type4_imgs)\n",
    "\n",
    "type3_imgs_squared = squared_imgs(type3_imgs_rgb)\n",
    "type4_imgs_squared = squared_imgs(type4_imgs_rgb)"
   ]
  },
  {
   "cell_type": "code",
   "execution_count": 12,
   "id": "26e7205b",
   "metadata": {
    "ExecuteTime": {
     "end_time": "2021-07-05T08:06:45.762812Z",
     "start_time": "2021-07-05T08:06:42.380359Z"
    }
   },
   "outputs": [
    {
     "name": "stderr",
     "output_type": "stream",
     "text": [
      "\n",
      "Copying files: 0 files [00:00, ? files/s]\u001b[A\n",
      "Copying files: 18 files [00:00, 173.40 files/s]\u001b[A\n",
      "Copying files: 36 files [00:00, 120.88 files/s]\u001b[A\n",
      "Copying files: 57 files [00:00, 141.98 files/s]\u001b[A\n",
      "Copying files: 77 files [00:00, 151.37 files/s]\u001b[A\n",
      "Copying files: 95 files [00:00, 157.08 files/s]\u001b[A\n",
      "Copying files: 113 files [00:00, 159.42 files/s]\u001b[A\n",
      "Copying files: 130 files [00:00, 121.79 files/s]\u001b[A\n",
      "Copying files: 149 files [00:01, 132.65 files/s]\u001b[A\n",
      "Copying files: 168 files [00:01, 143.86 files/s]\u001b[A\n",
      "Copying files: 186 files [00:01, 152.75 files/s]\u001b[A\n",
      "Copying files: 203 files [00:01, 148.44 files/s]\u001b[A\n",
      "Copying files: 219 files [00:01, 136.16 files/s]\u001b[A\n",
      "Copying files: 234 files [00:01, 122.14 files/s]\u001b[A\n",
      "Copying files: 248 files [00:01, 123.51 files/s]\u001b[A\n",
      "Copying files: 263 files [00:01, 130.08 files/s]\u001b[A\n",
      "Copying files: 277 files [00:02, 131.50 files/s]\u001b[A\n",
      "Copying files: 291 files [00:02, 131.99 files/s]\u001b[A\n",
      "Copying files: 305 files [00:02, 132.05 files/s]\u001b[A\n",
      "Copying files: 323 files [00:02, 145.13 files/s]\u001b[A\n",
      "Copying files: 340 files [00:02, 151.80 files/s]\u001b[A\n",
      "Copying files: 360 files [00:02, 154.76 files/s]\u001b[A\n",
      "Copying files: 376 files [00:02, 145.58 files/s]\u001b[A\n",
      "Copying files: 391 files [00:02, 141.56 files/s]\u001b[A\n",
      "Copying files: 406 files [00:02, 135.72 files/s]\u001b[A\n",
      "Copying files: 420 files [00:03, 115.67 files/s]\u001b[A\n",
      "Copying files: 441 files [00:03, 134.83 files/s]\u001b[A\n"
     ]
    }
   ],
   "source": [
    "data_path = '../../raw_data/Data'\n",
    "output_path = '../../raw_data/Data_aug'\n",
    "splitfolders.ratio(data_path, output=output_path, ratio=(.64, 0.16, 0.2))"
   ]
  },
  {
   "cell_type": "code",
   "execution_count": 13,
   "id": "31783c77",
   "metadata": {
    "ExecuteTime": {
     "end_time": "2021-07-05T08:06:49.879656Z",
     "start_time": "2021-07-05T08:06:49.822488Z"
    }
   },
   "outputs": [],
   "source": [
    "# Create train and validation directories\n",
    "train_path = os.path.join(data_gen_path,'train')\n",
    "val_path = os.path.join(data_gen_path,'val')\n",
    "test_path = os.path.join(data_gen_path, 'test')\n"
   ]
  },
  {
   "cell_type": "code",
   "execution_count": 21,
   "id": "4eb50ba5",
   "metadata": {
    "ExecuteTime": {
     "end_time": "2021-07-05T08:37:40.224200Z",
     "start_time": "2021-07-05T08:37:20.550734Z"
    },
    "scrolled": true
   },
   "outputs": [
    {
     "name": "stdout",
     "output_type": "stream",
     "text": [
      "Found 277 images belonging to 2 classes.\n",
      "Found 69 images belonging to 2 classes.\n"
     ]
    },
    {
     "data": {
      "text/plain": [
       "(<tensorflow.python.keras.preprocessing.image.DirectoryIterator at 0x14be05a90>,\n",
       " <tensorflow.python.keras.preprocessing.image.DirectoryIterator at 0x14bcca730>)"
      ]
     },
     "execution_count": 21,
     "metadata": {},
     "output_type": "execute_result"
    }
   ],
   "source": [
    "batch_size = 300\n",
    "data_gen(data_gen_path, batch_size)"
   ]
  },
  {
   "cell_type": "code",
   "execution_count": null,
   "id": "7ead5bfc",
   "metadata": {
    "ExecuteTime": {
     "end_time": "2021-07-05T08:06:52.990202Z",
     "start_time": "2021-07-05T08:06:49.709Z"
    }
   },
   "outputs": [],
   "source": [
    "fig, ax = plt.subplots(nrows=5, ncols=5, figsize=(15,15))\n",
    "\n",
    "for i in range(5):\n",
    "\n",
    "    # convert to unsigned integers for plotting\n",
    "    images, labels = next(train_generator)\n",
    "    images = images.astype('uint8')\n",
    "    #print(images.shape)\n",
    "    #print(labels)\n",
    "   \n",
    "    # changing size from (batchsize, 200, 200, 3) to (200, 200, 3) for plotting the image\n",
    "    #image = np.squeeze(image)  \n",
    "    for j in range(5):\n",
    "        # plot raw pixel data\n",
    "        ax[i,j].imshow(images[j])\n",
    "        ax[i,j].set_title(labels[j])\n",
    "        ax[i,j].axis('off')"
   ]
  },
  {
   "cell_type": "code",
   "execution_count": null,
   "id": "036edc2b",
   "metadata": {},
   "outputs": [],
   "source": [
    "shutil.rmtree(data_aug)"
   ]
  }
 ],
 "metadata": {
  "kernelspec": {
   "display_name": "Python 3",
   "language": "python",
   "name": "python3"
  },
  "language_info": {
   "codemirror_mode": {
    "name": "ipython",
    "version": 3
   },
   "file_extension": ".py",
   "mimetype": "text/x-python",
   "name": "python",
   "nbconvert_exporter": "python",
   "pygments_lexer": "ipython3",
   "version": "3.8.6"
  },
  "toc": {
   "base_numbering": 1,
   "nav_menu": {},
   "number_sections": true,
   "sideBar": true,
   "skip_h1_title": false,
   "title_cell": "Table of Contents",
   "title_sidebar": "Contents",
   "toc_cell": false,
   "toc_position": {},
   "toc_section_display": true,
   "toc_window_display": false
  },
  "varInspector": {
   "cols": {
    "lenName": 16,
    "lenType": 16,
    "lenVar": 40
   },
   "kernels_config": {
    "python": {
     "delete_cmd_postfix": "",
     "delete_cmd_prefix": "del ",
     "library": "var_list.py",
     "varRefreshCmd": "print(var_dic_list())"
    },
    "r": {
     "delete_cmd_postfix": ") ",
     "delete_cmd_prefix": "rm(",
     "library": "var_list.r",
     "varRefreshCmd": "cat(var_dic_list()) "
    }
   },
   "types_to_exclude": [
    "module",
    "function",
    "builtin_function_or_method",
    "instance",
    "_Feature"
   ],
   "window_display": false
  }
 },
 "nbformat": 4,
 "nbformat_minor": 5
}
