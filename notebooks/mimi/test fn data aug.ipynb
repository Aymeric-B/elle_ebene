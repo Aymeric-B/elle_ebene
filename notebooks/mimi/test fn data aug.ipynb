{
 "cells": [
  {
   "cell_type": "markdown",
   "id": "519d1ebf",
   "metadata": {},
   "source": [
    "# Testing the python code "
   ]
  },
  {
   "cell_type": "code",
   "execution_count": 25,
   "id": "1d1bca0c",
   "metadata": {
    "ExecuteTime": {
     "end_time": "2021-07-02T15:00:35.779501Z",
     "start_time": "2021-07-02T15:00:35.657490Z"
    }
   },
   "outputs": [
    {
     "name": "stdout",
     "output_type": "stream",
     "text": [
      "The autoreload extension is already loaded. To reload it, use:\n",
      "  %reload_ext autoreload\n"
     ]
    }
   ],
   "source": [
    "%load_ext autoreload\n",
    "%autoreload 2"
   ]
  },
  {
   "cell_type": "code",
   "execution_count": 2,
   "id": "547f6b46",
   "metadata": {
    "ExecuteTime": {
     "end_time": "2021-07-02T14:25:06.943079Z",
     "start_time": "2021-07-02T14:25:05.099765Z"
    }
   },
   "outputs": [],
   "source": [
    "import matplotlib.pyplot as plt\n",
    "import numpy as np\n",
    "import pandas as pd\n",
    "import os"
   ]
  },
  {
   "cell_type": "code",
   "execution_count": 54,
   "id": "8f17785d",
   "metadata": {
    "ExecuteTime": {
     "end_time": "2021-07-02T15:45:20.394486Z",
     "start_time": "2021-07-02T15:45:20.303218Z"
    }
   },
   "outputs": [],
   "source": [
    "from PIL import Image\n",
    "from elle_ebene.simple_preprocessing import to_numpy_rgb\n",
    "from elle_ebene.simple_preprocessing import squared_imgs\n",
    "from elle_ebene.dataug import data_gen\n",
    "from elle_ebene.simple_preprocessing import get_images"
   ]
  },
  {
   "cell_type": "code",
   "execution_count": 4,
   "id": "9e35fb60",
   "metadata": {
    "ExecuteTime": {
     "end_time": "2021-07-02T14:25:28.952697Z",
     "start_time": "2021-07-02T14:25:28.835499Z"
    }
   },
   "outputs": [],
   "source": [
    "import splitfolders"
   ]
  },
  {
   "cell_type": "markdown",
   "id": "363cc97e",
   "metadata": {
    "ExecuteTime": {
     "end_time": "2021-07-01T15:39:05.606165Z",
     "start_time": "2021-07-01T15:39:05.534361Z"
    }
   },
   "source": [
    "<font size=\"5\">Preprocessing</font>"
   ]
  },
  {
   "cell_type": "code",
   "execution_count": 38,
   "id": "2c2aa704",
   "metadata": {
    "ExecuteTime": {
     "end_time": "2021-07-02T15:13:44.515833Z",
     "start_time": "2021-07-02T15:13:44.397860Z"
    }
   },
   "outputs": [],
   "source": [
    "home_path = r'/Users/Mygenety/code/Aymeric-B/elle_ebene/raw_data/Data'\n",
    "data_gen_path = r'/Users/Mygenety/code/Aymeric-B/elle_ebene/raw_data/Data_aug'"
   ]
  },
  {
   "cell_type": "code",
   "execution_count": 27,
   "id": "822571a1",
   "metadata": {
    "ExecuteTime": {
     "end_time": "2021-07-02T15:02:13.697836Z",
     "start_time": "2021-07-02T15:01:59.795657Z"
    }
   },
   "outputs": [],
   "source": [
    "\n",
    "# Preprocessing image \n",
    "type3_imgs = get_images(\"Type 3\", path=home_path)\n",
    "type4_imgs = get_images(\"Type 4\", path=home_path)\n",
    "\n",
    "type3_imgs_rgb = to_numpy_rgb(type3_imgs)\n",
    "type4_imgs_rgb = to_numpy_rgb(type4_imgs)\n",
    "\n",
    "type3_imgs_squared = squared_imgs(type3_imgs_rgb)\n",
    "type4_imgs_squared = squared_imgs(type4_imgs_rgb)"
   ]
  },
  {
   "cell_type": "code",
   "execution_count": 31,
   "id": "26e7205b",
   "metadata": {
    "ExecuteTime": {
     "end_time": "2021-07-02T15:06:12.143869Z",
     "start_time": "2021-07-02T15:06:09.760871Z"
    }
   },
   "outputs": [
    {
     "name": "stderr",
     "output_type": "stream",
     "text": [
      "Copying files: 441 files [00:02, 193.08 files/s]\n"
     ]
    }
   ],
   "source": [
    "data_path = '../../raw_data/Data'\n",
    "output_path = '../../raw_data/Data_aug'\n",
    "splitfolders.ratio(data_path, output=output_path, ratio=(.64, 0.16, 0.2))"
   ]
  },
  {
   "cell_type": "code",
   "execution_count": 41,
   "id": "31783c77",
   "metadata": {
    "ExecuteTime": {
     "end_time": "2021-07-02T15:22:11.309448Z",
     "start_time": "2021-07-02T15:22:11.191202Z"
    }
   },
   "outputs": [],
   "source": [
    "# Create train and validation directories\n",
    "train_path = os.path.join(data_gen_path,'train')\n",
    "val_path = os.path.join(data_gen_path,'val')\n",
    "test_path = os.path.join(data_gen_path, 'test')\n"
   ]
  },
  {
   "cell_type": "code",
   "execution_count": 63,
   "id": "4eb50ba5",
   "metadata": {
    "ExecuteTime": {
     "end_time": "2021-07-02T16:07:27.608001Z",
     "start_time": "2021-07-02T16:07:01.549458Z"
    },
    "scrolled": true
   },
   "outputs": [
    {
     "name": "stdout",
     "output_type": "stream",
     "text": [
      "Searching in :  /Users/Mygenety/code/Aymeric-B/elle_ebene/raw_data/Data_aug/train\n",
      "Total number of files 1\n",
      "Searching in :  /Users/Mygenety/code/Aymeric-B/elle_ebene/raw_data/Data_aug/train/Type 3\n",
      "Total number of files 134\n",
      "Searching in :  /Users/Mygenety/code/Aymeric-B/elle_ebene/raw_data/Data_aug/train/Type 4\n",
      "Total number of files 147\n",
      "Found 277 images belonging to 2 classes.\n",
      "Found 69 images belonging to 2 classes.\n"
     ]
    },
    {
     "data": {
      "text/plain": [
       "(<keras.preprocessing.image.DirectoryIterator at 0x1530b7520>,\n",
       " <keras.preprocessing.image.DirectoryIterator at 0x152f789d0>)"
      ]
     },
     "execution_count": 63,
     "metadata": {},
     "output_type": "execute_result"
    }
   ],
   "source": [
    "data_gen(data_gen_path, batch_size)"
   ]
  },
  {
   "cell_type": "code",
   "execution_count": null,
   "id": "7ead5bfc",
   "metadata": {
    "ExecuteTime": {
     "end_time": "2021-07-02T14:25:48.314073Z",
     "start_time": "2021-07-02T14:25:04.913Z"
    }
   },
   "outputs": [],
   "source": [
    "fig, ax = plt.subplots(nrows=5, ncols=5, figsize=(15,15))\n",
    "\n",
    "for i in range(5):\n",
    "\n",
    "    # convert to unsigned integers for plotting\n",
    "    images, labels = next(train_generator)\n",
    "    images = images.astype('uint8')\n",
    "    #print(images.shape)\n",
    "    #print(labels)\n",
    "   \n",
    "    # changing size from (batchsize, 200, 200, 3) to (200, 200, 3) for plotting the image\n",
    "    #image = np.squeeze(image)  \n",
    "    for j in range(5):\n",
    "        # plot raw pixel data\n",
    "        ax[i,j].imshow(images[j])\n",
    "        ax[i,j].set_title(labels[j])\n",
    "        ax[i,j].axis('off')"
   ]
  },
  {
   "cell_type": "code",
   "execution_count": null,
   "id": "036edc2b",
   "metadata": {},
   "outputs": [],
   "source": []
  }
 ],
 "metadata": {
  "kernelspec": {
   "display_name": "Python 3",
   "language": "python",
   "name": "python3"
  },
  "language_info": {
   "codemirror_mode": {
    "name": "ipython",
    "version": 3
   },
   "file_extension": ".py",
   "mimetype": "text/x-python",
   "name": "python",
   "nbconvert_exporter": "python",
   "pygments_lexer": "ipython3",
   "version": "3.8.6"
  },
  "toc": {
   "base_numbering": 1,
   "nav_menu": {},
   "number_sections": true,
   "sideBar": true,
   "skip_h1_title": false,
   "title_cell": "Table of Contents",
   "title_sidebar": "Contents",
   "toc_cell": false,
   "toc_position": {},
   "toc_section_display": true,
   "toc_window_display": false
  },
  "varInspector": {
   "cols": {
    "lenName": 16,
    "lenType": 16,
    "lenVar": 40
   },
   "kernels_config": {
    "python": {
     "delete_cmd_postfix": "",
     "delete_cmd_prefix": "del ",
     "library": "var_list.py",
     "varRefreshCmd": "print(var_dic_list())"
    },
    "r": {
     "delete_cmd_postfix": ") ",
     "delete_cmd_prefix": "rm(",
     "library": "var_list.r",
     "varRefreshCmd": "cat(var_dic_list()) "
    }
   },
   "types_to_exclude": [
    "module",
    "function",
    "builtin_function_or_method",
    "instance",
    "_Feature"
   ],
   "window_display": false
  }
 },
 "nbformat": 4,
 "nbformat_minor": 5
}
